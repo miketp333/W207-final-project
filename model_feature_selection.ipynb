{
 "cells": [
  {
   "cell_type": "markdown",
   "metadata": {},
   "source": [
    "# K-Nearest Neighbors Notebook\n",
    "[Return to project overview](final_project_overview.ipynb)\n",
    "\n",
    "### Andrew Larimer, Deepak Nagaraj, Daniel Olmstead, Michael Winton (W207-4-Summer 2018 Final Project)"
   ]
  },
  {
   "cell_type": "markdown",
   "metadata": {},
   "source": [
    "Let us do some initial imports and set up the data."
   ]
  },
  {
   "cell_type": "code",
   "execution_count": null,
   "metadata": {},
   "outputs": [],
   "source": [
    "# import necessary libraries\n",
    "import matplotlib.pyplot as plt\n",
    "import numpy as np\n",
    "import pandas as pd\n",
    "import util\n",
    "\n",
    "\n",
    "# set default options\n",
    "pd.set_option('display.max_columns', None)\n",
    "pd.set_option('display.max_rows', 200)\n",
    "\n",
    "%matplotlib inline"
   ]
  },
  {
   "cell_type": "code",
   "execution_count": null,
   "metadata": {},
   "outputs": [],
   "source": [
    "from functools import partial\n",
    "from sklearn.model_selection import train_test_split\n",
    "\n",
    "train_data, test_data, train_labels, test_labels = util.read_data()\n",
    "train_data"
   ]
  },
  {
   "cell_type": "markdown",
   "metadata": {},
   "source": [
    "Let us shortlist some interesting columns:\n",
    "* dbn\n",
    "* num_shsat_test_takers\n",
    "* offers_per_student\n",
    "* pct_test_takers\n",
    "* rigorous_instruction_percent\n",
    "* rigorous_instruction_rating\n",
    "* collaborative_teachers_percent\n",
    "* collaborative_teachers_rating\n",
    "* supportive_environment_percent\n",
    "* supportive_environment_rating\n",
    "* effective_school_leadership_percent\n",
    "* effective_school_leadership_rating\n",
    "* strong_family_community_ties_percent\n",
    "* strong_family_community_ties_rating\n",
    "* trust_percent\n",
    "* trust_rating\n",
    "* student_achievement_rating\n",
    "* average_ela_proficiency\n",
    "* average_math_proficiency\n",
    "* grade_7_ela_all_students_tested\n",
    "* grade_7_ela_4s_all_students\n",
    "* grade_7_math_all_students_tested\n",
    "* grade_7_math_4s_all_students\n",
    "* average_class_size_english\n",
    "* average_class_size_math\n",
    "* school_pupil_teacher_ratio\n",
    "* student_attendance_rate\n",
    "\n",
    "Demographic indicators\n",
    "* school_name\n",
    "* zip\n",
    "* community_school\n",
    "* economic_need_index\n",
    "* school_income_estimate\n",
    "* percent_ell\n",
    "* percent_black\n",
    "* percent_hispanic\n",
    "* percent_asian\n",
    "* percent_white\n",
    "* percent_of_students_chronically_absent\n"
   ]
  },
  {
   "cell_type": "code",
   "execution_count": null,
   "metadata": {},
   "outputs": [],
   "source": [
    "# To generate this list again:\n",
    "# Take above (markdown) list and store it in say ~/tmp/col_list.  Then:\n",
    "# cat  ~/tmp/col_list | cut -d\" \" -f2 | sed -E 's/^(.*)$/\"\\1\"/' | tr '\\n' ', '\n",
    "\n",
    "perf_train_data = train_data[[\"num_shsat_test_takers\",\"offers_per_student\",\"pct_test_takers\",\"rigorous_instruction_percent\",\"rigorous_instruction_rating\",\"collaborative_teachers_percent\",\"collaborative_teachers_rating\",\"supportive_environment_percent\",\"supportive_environment_rating\",\"effective_school_leadership_percent\",\"effective_school_leadership_rating\",\"strong_family_community_ties_percent\",\"strong_family_community_ties_rating\",\"trust_percent\",\"trust_rating\",\"student_achievement_rating\",\"average_ela_proficiency\",\"average_math_proficiency\",\"grade_7_ela_all_students_tested\",\"grade_7_ela_4s_all_students\",\"grade_7_math_all_students_tested\",\"grade_7_math_4s_all_students\",\"average_class_size_english\",\"average_class_size_math\",\"school_pupil_teacher_ratio\",\"student_attendance_rate\"]]"
   ]
  },
  {
   "cell_type": "code",
   "execution_count": null,
   "metadata": {},
   "outputs": [],
   "source": [
    "from sklearn.decomposition import PCA\n",
    "perf_train_data.info()\n",
    "perf_train_data_nonull = perf_train_data.fillna(perf_train_data.mean())\n",
    "cum_explained_variance_ratios = []\n",
    "#perf_train_data_nonull.info()\n",
    "for n in range(1, 15):\n",
    "    pca = PCA(n_components=n, random_state=207)\n",
    "    pca.fit(perf_train_data_nonull)\n",
    "    print(pca.explained_variance_ratio_)\n",
    "    cum_explained_variance_ratios.append(np.sum(pca.explained_variance_ratio_))\n",
    "\n",
    "import seaborn as sns\n",
    "sns.set()\n",
    "plt.plot(np.array(cum_explained_variance_ratios))"
   ]
  },
  {
   "cell_type": "code",
   "execution_count": null,
   "metadata": {},
   "outputs": [],
   "source": [
    "pca = PCA(n_components=2, random_state=207)\n",
    "pca.fit(perf_train_data_nonull)\n",
    "perf_train_data_nonull_pca = pca.transform(perf_train_data_nonull)\n",
    "plt.scatter(perf_train_data_nonull_pca[:, 0], perf_train_data_nonull_pca[:, 1])\n",
    "plt.axis('equal')\n",
    "plt.show()\n",
    "\n",
    "pca = PCA(n_components=1, random_state=207)\n",
    "pca.fit(perf_train_data_nonull)\n",
    "perf_train_data_nonull_pca = pca.transform(perf_train_data_nonull)\n",
    "plt.plot(perf_train_data_nonull_pca)\n",
    "plt.axis('equal')\n",
    "plt.show()"
   ]
  },
  {
   "cell_type": "code",
   "execution_count": null,
   "metadata": {},
   "outputs": [],
   "source": [
    "\n",
    "\n"
   ]
  }
 ],
 "metadata": {
  "language_info": {
   "name": "python",
   "pygments_lexer": "ipython3"
  }
 },
 "nbformat": 4,
 "nbformat_minor": 2
}
