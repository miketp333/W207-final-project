{
 "cells": [
  {
   "cell_type": "markdown",
   "metadata": {},
   "source": [
    "# Exploratory Data Analysis\n",
    "\n",
    "### Andrew Larimer, Deepak Nagaraj, Daniel Olmstead, Michael Winton\n",
    "\n",
    "#### W207-4-Summer 2018 Final Project\n",
    "\n",
    "[Return to project overview](final_project_overview.ipynb)"
   ]
  },
  {
   "cell_type": "code",
   "execution_count": null,
   "metadata": {},
   "outputs": [],
   "source": [
    "# import necessary libraries\n",
    "import matplotlib.pyplot as plt\n",
    "import numpy as np\n",
    "import pandas as pd\n",
    "import seaborn as sns\n",
    "import util\n",
    "\n",
    "# set default options\n",
    "pd.set_option('display.max_columns', None)\n",
    "pd.set_option('display.max_rows', 200)\n",
    "\n",
    "# Get train-test split\n",
    "train_data, test_data, train_labels, test_labels = util.read_data()\n",
    "\n",
    "# Concatenate training features and labels into one dataframe\n",
    "Xy_train = pd.concat([train_data, train_labels], axis=1)"
   ]
  },
  {
   "cell_type": "markdown",
   "metadata": {},
   "source": [
    "## Correlation Matrix: key non-demographic features\n",
    "\n",
    "As we expect many of our features to be highly correlated, looking at a visual representation of the correlation matrix is a useful step in our EDA.  In this first plot, we intentionally omit features either directly representing, or closely related to demographic features.  "
   ]
  },
  {
   "cell_type": "code",
   "execution_count": null,
   "metadata": {},
   "outputs": [],
   "source": [
    "%matplotlib inline\n",
    "\n",
    "# choose key features for correlation matrix\n",
    "corr_features = ['grade_7_enrollment',\n",
    "                 'community_school', \n",
    "                 'student_attendance_rate',\n",
    "                 'percent_of_students_chronically_absent',\n",
    "                 'rigorous_instruction_percent', \n",
    "                 'collaborative_teachers_percent', \n",
    "                 'supportive_environment_percent',\n",
    "                 'effective_school_leadership_percent',\n",
    "                 'strong_family_community_ties_percent',\n",
    "                 'trust_percent',\n",
    "                 'student_achievement_rating',\n",
    "                 'average_ela_proficiency',\n",
    "                 'average_math_proficiency',\n",
    "                 'grade_7_ela_all_students_tested',\n",
    "                 'grade_7_ela_4s_all_students',\n",
    "                 'grade_7_math_all_students_tested',\n",
    "                 'grade_7_math_4s_all_students',\n",
    "                 'average_class_size_english', \n",
    "                 'average_class_size_math',\n",
    "                 'average_class_size_science',\n",
    "                 'average_class_size_social_studies',\n",
    "                 'school_pupil_teacher_ratio',\n",
    "                 'high_registrations']\n",
    "\n",
    "\n",
    "def draw_heatmap(df, fig_name):\n",
    "    corr_matrix = df.corr(method='pearson')\n",
    "    mask = np.zeros_like(corr_matrix)\n",
    "    mask[np.triu_indices_from(mask)] = True\n",
    "    \n",
    "    # plot heatmap and also save to disk\n",
    "    plt.rcParams['figure.figsize'] = [12, 8]\n",
    "    sns.heatmap(corr_matrix, annot=False, fmt=\"g\",\n",
    "                xticklabels=corr_matrix.columns, yticklabels=corr_matrix.columns,\n",
    "                center=0, linewidths=0.5, cmap=\"coolwarm\", robust=True, mask=mask)\n",
    "    plt.savefig(fig_name, bbox_inches='tight')\n",
    "\n",
    "draw_heatmap(Xy_train[corr_features], 'plots/corr_matrix_key_features.png')\n"
   ]
  },
  {
   "cell_type": "markdown",
   "metadata": {},
   "source": [
    "From this correlation matrix, we see that in general, feature related to test scores or academic proficiency are positively correlated with a high SHSAT registration rate.  Two features in our dataset are most negatively correlated with registration rate: the percentage of students which are chronically absent, as well as the \"community school\" indicator.  The former is very much intuitive, but the latter fact may be an noteworthy learning from this analysis.  It's also somewhat interesting to see that a _higher_ student-to-teacher ratio correlates positively with registration rate."
   ]
  },
  {
   "cell_type": "markdown",
   "metadata": {},
   "source": [
    "## Correlation Matrix: demographic features\n",
    "\n",
    "As the lack of diversity in the SHSAT registrations is part of our original problem statement, it is also interesting to look at the existing correlation between demographic-related features and test registrations."
   ]
  },
  {
   "cell_type": "code",
   "execution_count": null,
   "metadata": {},
   "outputs": [],
   "source": [
    "# choose key features for correlation matrix\n",
    "demog_features =  ['economic_need_index',\n",
    "                   'percent_ell',\n",
    "                   'percent_asian',\n",
    "                   'percent_black', \n",
    "                   'percent_hispanic', \n",
    "                   'percent_black__hispanic',\n",
    "                   'percent_white', \n",
    "                   'grade_7_ela_4s_black_or_african_american',\n",
    "                   'grade_7_ela_4s_hispanic_or_latino',\n",
    "                   'grade_7_ela_4s_multiracial',\n",
    "                   'grade_7_ela_4s_limited_english_proficient',\n",
    "                   'grade_7_ela_4s_economically_disadvantaged',\n",
    "                   'grade_7_math_4s_black_or_african_american',\n",
    "                   'grade_7_math_4s_hispanic_or_latino',\n",
    "                   'grade_7_math_4s_multiracial',\n",
    "                   'grade_7_math_4s_limited_english_proficient',\n",
    "                   'grade_7_math_4s_economically_disadvantaged',\n",
    "                   'high_registrations']\n",
    "\n",
    "draw_heatmap(Xy_train[demog_features], 'plots/corr_matrix_demographics.png')"
   ]
  },
  {
   "cell_type": "markdown",
   "metadata": {},
   "source": [
    "We see that percent Asian and percent white correlate positively with high SHSAT registration rates, whereas percent black and Hispanic correlate negatively with the registration rate.  This is in agreement with the original problem statement that PASSNYC posed.  Additionally, schools with a higher economic need index correlate with lower registration rates.  However, even in light of this fact, it is particularly interesting to note that schools with a high proportion of economically disadvantage students scoring 4's on their ELA and Math exams tend to have higher registration rates, as well."
   ]
  },
  {
   "cell_type": "code",
   "execution_count": null,
   "metadata": {},
   "outputs": [],
   "source": []
  }
 ],
 "metadata": {
  "language_info": {
   "name": "python",
   "pygments_lexer": "ipython3"
  }
 },
 "nbformat": 4,
 "nbformat_minor": 2
}
