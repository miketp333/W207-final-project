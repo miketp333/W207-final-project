{
 "cells": [
  {
   "cell_type": "markdown",
   "metadata": {},
   "source": [
    "# Exploratory Data Analysis\n",
    "\n",
    "### Andrew Larimer, Deepak Nagaraj, Daniel Olmstead, Michael Winton\n",
    "\n",
    "#### W207-4-Summer 2018 Final Project\n",
    "\n",
    "[Return to project overview](final_project_overview.ipynb)"
   ]
  },
  {
   "cell_type": "code",
   "execution_count": null,
   "metadata": {},
   "outputs": [],
   "source": [
    "# import necessary libraries\n",
    "import matplotlib.pyplot as plt\n",
    "import numpy as np\n",
    "import pandas as pd\n",
    "import seaborn as sns\n",
    "import util\n",
    "\n",
    "# set default options\n",
    "pd.set_option('display.max_columns', None)\n",
    "pd.set_option('display.max_rows', 200)\n",
    "\n",
    "# Get train-test split\n",
    "train_data, test_data, train_labels, test_labels = util.read_data()\n",
    "# convert train_labels into a dataframe in order to concatenate it\n",
    "train_labels_df = pd.DataFrame(train_labels)\n",
    "train_labels_df.columns=['high_registrations']\n",
    "\n",
    "# Concatenate training features and labels into one dataframe\n",
    "Xy_train = pd.concat([train_data, train_labels_df], axis=1)"
   ]
  },
  {
   "cell_type": "markdown",
   "metadata": {},
   "source": [
    "## Verifying correlation between \"equivalent\" percent and rating columns\n",
    "The definitions of these \"percent\" and \"rating\" columns on Kaggle are identical, leading us to question whether these were duplicate columns, so we plotted them against each other. "
   ]
  },
  {
   "cell_type": "code",
   "execution_count": null,
   "metadata": {},
   "outputs": [],
   "source": [
    "plt.rcParams['figure.figsize'] = [12, 3]\n",
    "plt.scatter(train_data['rigorous_instruction_percent'], train_data['rigorous_instruction_rating'])\n",
    "plt.title('rigorous_instruction')\n",
    "plt.show()\n",
    "plt.scatter(train_data['collaborative_teachers_percent'], train_data['collaborative_teachers_rating'])\n",
    "plt.title('collaborative_teachers')\n",
    "plt.show()\n",
    "plt.scatter(train_data['supportive_environment_percent'], train_data['supportive_environment_rating'])\n",
    "plt.title('supportive_environment')\n",
    "plt.show()\n",
    "plt.scatter(train_data['effective_school_leadership_percent'], train_data['effective_school_leadership_rating'])\n",
    "plt.title('effective_school_leadership')\n",
    "plt.show()\n",
    "plt.scatter(train_data['strong_family_community_ties_percent'], train_data['strong_family_community_ties_rating'])\n",
    "plt.title('strong_family_community_ties')\n",
    "plt.show()\n",
    "plt.scatter(train_data['trust_percent'], train_data['trust_rating'])\n",
    "plt.title('trust')\n",
    "plt.show()"
   ]
  },
  {
   "cell_type": "markdown",
   "metadata": {},
   "source": [
    "It turns out we cannot consider the `percent` and `rating` columns to be duplicates because, for example an 85% on most plots could be a 2, 3, or 4 rating.  They are correlated, but are not perfectly multicollinear; as a result, we will keep both sets of features in the dataset."
   ]
  },
  {
   "cell_type": "markdown",
   "metadata": {},
   "source": [
    "## Correlation Matrix: key non-demographic features\n",
    "\n",
    "As we expect many of our features to be highly correlated, looking at a visual representation of the correlation matrix is a useful step in our EDA.  In this first plot, we intentionally omit features either directly representing, or closely related to demographic features.  "
   ]
  },
  {
   "cell_type": "code",
   "execution_count": null,
   "metadata": {},
   "outputs": [],
   "source": [
    "%matplotlib inline\n",
    "\n",
    "# choose key features for correlation matrix\n",
    "corr_features = ['grade_7_enrollment',\n",
    "                 'community_school', \n",
    "                 'student_attendance_rate',\n",
    "                 'gifted',\n",
    "                 'selective',\n",
    "                 'percent_of_students_chronically_absent',\n",
    "                 'rigorous_instruction_percent', \n",
    "                 'rigorous_instruction_rating', \n",
    "                 'collaborative_teachers_percent', \n",
    "                 'collaborative_teachers_rating', \n",
    "                 'supportive_environment_percent',\n",
    "                 'supportive_environment_rating',\n",
    "                 'effective_school_leadership_percent',\n",
    "                 'effective_school_leadership_rating',\n",
    "                 'strong_family_community_ties_percent',\n",
    "                 'strong_family_community_ties_rating',\n",
    "                 'trust_percent',\n",
    "                 'trust_rating',\n",
    "                 'student_achievement_rating',\n",
    "                 'average_ela_proficiency',\n",
    "                 'average_math_proficiency',\n",
    "                 'grade_7_ela_all_students_tested',\n",
    "                 'grade_7_ela_4s_all_students',\n",
    "                 'grade_7_math_all_students_tested',\n",
    "                 'grade_7_math_4s_all_students',\n",
    "                 'average_class_size_english', \n",
    "                 'average_class_size_math',\n",
    "                 'average_class_size_science',\n",
    "                 'average_class_size_social_studies',\n",
    "                 'school_pupil_teacher_ratio',\n",
    "                 'high_registrations']\n",
    "\n",
    "\n",
    "def draw_heatmap(df, fig_name):\n",
    "    corr_matrix = df.corr(method='pearson')\n",
    "    mask = np.zeros_like(corr_matrix)\n",
    "    mask[np.triu_indices_from(mask)] = True\n",
    "    \n",
    "    # plot heatmap and also save to disk\n",
    "    plt.rcParams['figure.figsize'] = [12, 8]\n",
    "    sns.heatmap(corr_matrix, annot=False, fmt=\"g\",\n",
    "                xticklabels=corr_matrix.columns, yticklabels=corr_matrix.columns,\n",
    "                center=0, linewidths=0.5, cmap=\"coolwarm\", mask=mask)\n",
    "    plt.savefig(fig_name, bbox_inches='tight')\n",
    "\n",
    "draw_heatmap(Xy_train[corr_features], 'plots/corr_matrix_key_features.png')"
   ]
  },
  {
   "cell_type": "markdown",
   "metadata": {},
   "source": [
    "From this correlation matrix, we see that in general, feature related to test scores or academic proficiency are positively correlated with a high SHSAT registration rate.  Two features in our dataset are most negatively correlated with registration rate: the percentage of students which are chronically absent, as well as the \"community school\" indicator.  The former is very much intuitive, but the latter fact may be an noteworthy learning from this analysis.  It's also somewhat interesting to see that a _higher_ student-to-teacher ratio correlates positively with registration rate.\n",
    "\n",
    "#### Interesting correlations\n",
    "* Proficiency in both ELA and math is strongly correlated with strong attendance rate\n",
    "* Conversely, proficiency is strongly negatively correlated with low attendance schools (% chronically absent).  _It may be that improving attendance gives the most \"bang for the buck\" in terms of performance._\n",
    "* Math and ELA proficiency have high correlation: in other words, schools tend to have students proficient in both of them, rather than just one.\n",
    "* Both math and ELA proficiency are moderately correlated with pupil:teacher ratio: this is surprising, because we would expect proficiency to go down as the ratio goes up.  This may be because of peer group and competitive effects.\n",
    "* Collaborative teachers, effective school leadership, and trust percentage are highly correlated between each other.  It seems as if they occur together.  _But they don't seem to have any correlation with high registrations._\n",
    "* Community schools are negatively correlated with proficiency.  This is probably due to a hidden variable:  they are located in neighborhoods that are not conducive for student performance.  By definition, community schools are \"designed to counter environmental factors that impede student achievement\".  _This also is an opportunity to consider._\n",
    "* Class sizes in English, Math and Science are all highly correlated.  It seems like we can use one to represent all."
   ]
  },
  {
   "cell_type": "markdown",
   "metadata": {},
   "source": [
    "## Correlation Matrix: demographic features\n",
    "\n",
    "As the lack of diversity in the SHSAT registrations is part of our original problem statement, it is also interesting to look at the existing correlation between demographic-related features and test registrations."
   ]
  },
  {
   "cell_type": "code",
   "execution_count": null,
   "metadata": {},
   "outputs": [],
   "source": [
    "# choose key features for correlation matrix\n",
    "demog_features =  ['economic_need_index',\n",
    "                   'percent_ell',\n",
    "                   'percent_asian',\n",
    "                   'percent_black', \n",
    "                   'percent_hispanic', \n",
    "                   'percent_black__hispanic',\n",
    "                   'percent_white',\n",
    "                   'gifted',\n",
    "                   'selective',\n",
    "                   'grade_7_ela_4s_black_or_african_american',\n",
    "                   'grade_7_ela_4s_hispanic_or_latino',\n",
    "                   'grade_7_ela_4s_multiracial',\n",
    "                   'grade_7_ela_4s_limited_english_proficient',\n",
    "                   'grade_7_ela_4s_economically_disadvantaged',\n",
    "                   'grade_7_math_4s_black_or_african_american',\n",
    "                   'grade_7_math_4s_hispanic_or_latino',\n",
    "                   'grade_7_math_4s_multiracial',\n",
    "                   'grade_7_math_4s_limited_english_proficient',\n",
    "                   'grade_7_math_4s_economically_disadvantaged',\n",
    "                   'high_registrations']\n",
    "\n",
    "draw_heatmap(Xy_train[demog_features], 'plots/corr_matrix_demographics.png')"
   ]
  },
  {
   "cell_type": "markdown",
   "metadata": {},
   "source": [
    "We see that percent Asian and percent white correlate positively with high SHSAT registration rates, whereas percent black and Hispanic correlate negatively with the registration rate.  This is in agreement with the original problem statement that PASSNYC posed.  Additionally, schools with a higher economic need index correlate with lower registration rates.  However, even in light of this fact, it is particularly interesting to note that schools with a high proportion of economically disadvantage students scoring 4's on their ELA and Math exams tend to have higher registration rates, as well.\n",
    "\n",
    "#### Interesting correlations\n",
    "\n",
    "* Schools with high number of Hispanics also tend to have high economic need index\n",
    "* Schools with high number of Hispanics also tend to have high English learners\n",
    "* On the contrary, schools with high number of whites have low economic need index\n",
    "* Schools with high number of SHSAT registrations tend to have high percentage of Asians\n",
    "* Schools with high number of SHSAT registrations tend to have low economic need index\n",
    "* Schools with high number of Hispanics tend not to have Asians, indicating segregation\n",
    "* Schools with high number of economically disadvantaged students also tend to have Asians.  This is unusual and needs more investigation.\n",
    "* Schools with high number of blacks tend not to have whites or Hispanics, again indicating segregation\n",
    "* Schools tend to have high performers in both ELA and math, not just one of them.\n",
    "\n",
    "The last row shows where we need to focus, based on demographics:\n",
    "* Schools with high economic need index\n",
    "* Schools with high percentage of blacks or Hispanics"
   ]
  },
  {
   "cell_type": "markdown",
   "metadata": {},
   "source": [
    "## Correlation Matrix: location and economic features\n",
    "\n",
    "We would also like to look at the correlation between high registration rate and the boroughs and economic variables."
   ]
  },
  {
   "cell_type": "code",
   "execution_count": null,
   "metadata": {},
   "outputs": [],
   "source": [
    "# choose key features for correlation matrix\n",
    "geo_econ_features =  ['in_bronx',\n",
    "                      'in_brooklyn',\n",
    "                      'in_manhattan',\n",
    "                      'in_queens',\n",
    "                      'in_staten',\n",
    "                      'economic_need_index',\n",
    "                      'sie_provided',\n",
    "                      'school_income_estimate',\n",
    "                      'grade_7_ela_4s_economically_disadvantaged',\n",
    "                      'grade_7_math_4s_economically_disadvantaged',\n",
    "                      'high_registrations']\n",
    "\n",
    "draw_heatmap(Xy_train[geo_econ_features], 'plots/corr_matrix_boroughs.png')"
   ]
  },
  {
   "cell_type": "markdown",
   "metadata": {},
   "source": [
    "We observe from this correlation matrix that the demographic and economics features in general are not strongly correlated with a high SHSAT registration rate.  There are very slight positive correlations for students in the Bronx or Brooklyn, as well as with the economic need index.  There is a slight negative correlation with SHSAT registration rate for students in Queens.  As such, we expect it will be unlikely that the indicator variables for the boroughs will have strong predictive value.\n",
    "\n",
    "We also see a negative correlation between school income estimate and high SHSAT registration rate, but caution that we only have these income estimates for about 1/3 of the schools in our dataset.  Contrary to our hypothesis that the existence or non-existence of such a school income estimate for a particular school might be meaningful, the binary flag for whether a school provided an income estimate seems uncorrelated with registration rate."
   ]
  },
  {
   "cell_type": "markdown",
   "metadata": {},
   "source": [
    "### Outlier Analysis\n",
    "\n",
    "Let us look at the distribution of test taker percentage across NYC schools."
   ]
  },
  {
   "cell_type": "code",
   "execution_count": null,
   "metadata": {},
   "outputs": [],
   "source": [
    "plt.rcParams['figure.figsize'] = [12, 3]\n",
    "sns.boxplot(x=train_data['pct_test_takers'])\n",
    "plt.show()"
   ]
  },
  {
   "cell_type": "markdown",
   "metadata": {},
   "source": [
    "There are quite a few outliers there.  Let us look at them."
   ]
  },
  {
   "cell_type": "code",
   "execution_count": null,
   "metadata": {},
   "outputs": [],
   "source": [
    "display(train_data[train_data['pct_test_takers'] >= 80].sort_values('pct_test_takers', ascending=False))"
   ]
  },
  {
   "cell_type": "markdown",
   "metadata": {},
   "source": [
    "### NYC \"Gifted & Talented\" Program\n",
    "\n",
    "We tried to analyze why these schools have such high enrollments.  When we did some research on the Internet, we found that New York actually has a \"Gifted & Talented\" Test that kids can take.  High-performers can go into \"G&T Schools\".  It is these schools that are the outliers above.\n",
    "\n",
    "* The Anderson School: A \"Gifted and Talented\" school: \"has an advanced math program, with fast-paced instruction, which encourages students to discover new approaches to math problems\". [Source](https://www.testingmom.com/tests/gifted-talented-nyc/schools/).\n",
    "\n",
    "* Mamie Fay: Has a \"gifted and talented\" [program](https://insideschools.org/school/30Q122).\n",
    "\n",
    "* Janice Marie Knight: This school seems to be a clear outlier: it has 93% black student population, yet it has 97% SHSAT registration.  Turns out it has a gifted program called [SOAR](https://insideschools.org/school/18K235).\n",
    "\n",
    "* Tag Young Scholars: The school explicitly identifies itself for [excellence](http://tagscholars.com/index.php/mission-statement/).\n",
    "\n",
    "* G&T Citywide (30th Ave): The name says it all: \"Gifted and Talented\".\n",
    "\n",
    "* Brooklyn School of Inquiry: [Gifted](https://insideschools.org/school/20K686) school.\n",
    "\n",
    "* Booker T. Washington: Very [selective in admissions](https://insideschools.org/school/03M054).\n",
    "\n",
    "* Christa Mcauliffe: Strong [special education program](https://insideschools.org/school/20K187).\n",
    "\n",
    "* New York City Lab Middle School: [Very selective](https://insideschools.org/school/02M312)."
   ]
  },
  {
   "cell_type": "code",
   "execution_count": null,
   "metadata": {},
   "outputs": [],
   "source": []
  }
 ],
 "metadata": {
  "language_info": {
   "name": "python",
   "pygments_lexer": "ipython3"
  }
 },
 "nbformat": 4,
 "nbformat_minor": 2
}
