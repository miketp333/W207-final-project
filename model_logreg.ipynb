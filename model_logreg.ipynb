{
 "cells": [
  {
   "cell_type": "markdown",
   "metadata": {},
   "source": [
    "# Logistic Regression Notebook\n",
    "[Return to project overview](final_project_overview.ipynb)\n",
    "\n",
    "### Andrew Larimer, Deepak Nagaraj, Daniel Olmstead, Michael Winton (W207-4-Summer 2018 Final Project)"
   ]
  },
  {
   "cell_type": "code",
   "execution_count": null,
   "metadata": {},
   "outputs": [],
   "source": [
    "# import necessary libraries\n",
    "import matplotlib.pyplot as plt\n",
    "import numpy as np\n",
    "import pandas as pd\n",
    "from util import our_train_test_split\n",
    "\n",
    "# set default options\n",
    "pd.set_option('display.max_columns', None)\n",
    "pd.set_option('display.max_rows', 200)\n",
    "\n",
    "%matplotlib inline"
   ]
  },
  {
   "cell_type": "code",
   "execution_count": null,
   "metadata": {},
   "outputs": [],
   "source": []
  },
  {
   "cell_type": "code",
   "execution_count": null,
   "metadata": {},
   "outputs": [],
   "source": [
    "from functools import partial\n",
    "from sklearn.model_selection import train_test_split\n",
    "TEST_SIZE = 0.2\n",
    "RANDOM_STATE = 207\n",
    "PASSNYC_LABELS = [0,1]\n",
    "our_train_test_split = partial(train_test_split,\n",
    "                               stratify=y,\n",
    "                               test_size=TEST_SIZE,\n",
    "                               random_state=RANDOM_STATE)\n",
    "merged_df = pd.read_csv('data_merged/combined_data_2018-07-18.csv')\n",
    "X = merged_df.loc[:, ~merged_df.columns.isin(['high_registrations'])]\n",
    "y = merged_df.loc[:, merged_df.columns.isin(['high_registrations'])]\n",
    "\n",
    "train_data, test_data, train_labels, test_labels = our_train_test_split(X, y)\n",
    "train_data"
   ]
  },
  {
   "cell_type": "code",
   "execution_count": null,
   "metadata": {},
   "outputs": [],
   "source": [
    "from sklearn.linear_model import LogisticRegression\n",
    "c_values = {'C': [0.010, 0.1000, 0.2000, 0.3000, 0.4000, 0.5000, 1.000, 2.000, 3.000, 4.000]}\n",
    "for c in c_values['C']:\n",
    "    log = LogisticRegression(C=c, penalty='l2', random_state=207)\n",
    "    log.fit(train_data, train_labels)\n",
    "    log_predicted_labels = log.predict(test_data)\n",
    "    log_score = metrics.f1_score(test_labels, log_predicted_labels, average='weighted')\n",
    "    print(\"F1 score for C={}: {:.4f}\".format(c, log_score))\n"
   ]
  }
 ],
 "metadata": {
  "language_info": {
   "name": "python",
   "pygments_lexer": "ipython3"
  }
 },
 "nbformat": 4,
 "nbformat_minor": 2
}
