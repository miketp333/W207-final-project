{
 "cells": [
  {
   "cell_type": "markdown",
   "metadata": {},
   "source": [
    "# Class Sizes Preliminary EDA / Cleaning Notebook\n",
    "[Return to project overview](final_project_overview.ipynb)\n",
    "\n",
    "### Andrew Larimer, Deepak Nagaraj, Daniel Olmstead, Michael Winton (W207-4-Summer 2018 Final Project)\n",
    "\n",
    "The [2016-2017 NYC Class Size Report](https://www.kaggle.com/marcomarchetti/20162017-nyc-class-size-report) dataset includes the following information:\n",
    "\n",
    "- number of students\n",
    "- number of classes\n",
    "- average class size\n",
    "- minimum class size\n",
    "- maximum class size\n",
    "\n",
    "by School x Program Type x Department x Subject.\n",
    "\n",
    "It also contains a school-wide pupil-to-teacher ratio."
   ]
  },
  {
   "cell_type": "code",
   "execution_count": null,
   "metadata": {},
   "outputs": [],
   "source": [
    "# import necessary libraries\n",
    "import matplotlib.pyplot as plt\n",
    "import numpy as np\n",
    "import pandas as pd\n",
    "import util\n",
    "\n",
    "# set default options\n",
    "pd.set_option('display.max_columns', None)\n",
    "pd.set_option('display.max_rows', 20)\n",
    "\n",
    "%matplotlib inline"
   ]
  },
  {
   "cell_type": "code",
   "execution_count": null,
   "metadata": {},
   "outputs": [],
   "source": [
    "# load dataset from CSV\n",
    "raw_class_sizes_df = pd.read_csv('data_raw/February2017_Avg_ClassSize_School_all.csv')\n",
    "\n",
    "# look at top-level stats on the dataset\n",
    "raw_class_sizes_df.info()"
   ]
  },
  {
   "cell_type": "code",
   "execution_count": null,
   "metadata": {},
   "outputs": [],
   "source": [
    "# remove the rows that aren't part of the 'MS Core' dataset\n",
    "class_sizes_df = raw_class_sizes_df[raw_class_sizes_df['Grade Level'] == 'MS Core']\n",
    "\n",
    "# check summary stats after filtering\n",
    "class_sizes_df.info()"
   ]
  },
  {
   "cell_type": "code",
   "execution_count": null,
   "metadata": {},
   "outputs": [],
   "source": [
    "# preview the data\n",
    "class_sizes_df.head(10)"
   ]
  },
  {
   "cell_type": "markdown",
   "metadata": {},
   "source": [
    "## Cleanup column names"
   ]
  },
  {
   "cell_type": "code",
   "execution_count": null,
   "metadata": {},
   "outputs": [],
   "source": [
    "class_sizes_df.columns = [util.sanitize_column_names(c) for c in class_sizes_df.columns]\n",
    "class_sizes_df.head()"
   ]
  },
  {
   "cell_type": "code",
   "execution_count": null,
   "metadata": {},
   "outputs": [],
   "source": [
    "# split out school-level pupil-teacher ratios into new dataframe with one row per school\n",
    "ratio_df = class_sizes_df.groupby(['dbn'])['school_pupil_teacher_ratio'].mean()\n",
    "ratio_df.describe().round(2)"
   ]
  },
  {
   "cell_type": "code",
   "execution_count": null,
   "metadata": {},
   "outputs": [],
   "source": [
    "# sum num students and classes by school x department (combining across different program types and subjects)\n",
    "class_stats_df = class_sizes_df.groupby(['dbn','department'])['number_of_students','number_of_classes'].sum()\n",
    "\n",
    "# derive an average class size column\n",
    "class_stats_df['average_class_size'] = class_stats_df['number_of_students'] / class_stats_df['number_of_classes']\n",
    "\n",
    "# take a quick look at the output\n",
    "class_stats_df.head(20).round(2)"
   ]
  },
  {
   "cell_type": "code",
   "execution_count": null,
   "metadata": {},
   "outputs": [],
   "source": [
    "# reindex to integer rownums so we can pivot.  We want columns for the subjects, not rows.\n",
    "class_stats_df = class_stats_df.reset_index()\n",
    "\n",
    "# pivot to get department x stats into columns, not rows.  Note that DBN is now the index\n",
    "class_stats_pivot_df = class_stats_df.pivot(index='dbn', columns='department')\n",
    "\n",
    "# take a quick look at the output\n",
    "class_stats_pivot_df.head(20)"
   ]
  },
  {
   "cell_type": "code",
   "execution_count": null,
   "metadata": {},
   "outputs": [],
   "source": [
    "# set column names based on the \"levels\" generated during groupby\n",
    "class_sizes_cleaned_df = class_stats_pivot_df.copy(deep=False)\n",
    "class_sizes_cleaned_df.columns = [' '.join(col).strip() for col in class_sizes_cleaned_df.columns.values]\n",
    "\n",
    "# clean up the new column names\n",
    "class_sizes_cleaned_df.columns = [util.sanitize_column_names(c) for c in class_sizes_cleaned_df.columns]\n",
    "\n",
    "# join the class size stats with student-teacher ratio\n",
    "class_sizes_cleaned_df = class_sizes_cleaned_df.join(ratio_df)\n",
    "class_sizes_cleaned_df.head(20)"
   ]
  },
  {
   "cell_type": "markdown",
   "metadata": {},
   "source": [
    "## Summary stats and histograms of key columns"
   ]
  },
  {
   "cell_type": "code",
   "execution_count": null,
   "metadata": {},
   "outputs": [],
   "source": [
    "class_sizes_cleaned_df.describe().round(2)"
   ]
  },
  {
   "cell_type": "code",
   "execution_count": null,
   "metadata": {},
   "outputs": [],
   "source": [
    "class_sizes_cleaned_df.hist(column='school_pupil_teacher_ratio')"
   ]
  },
  {
   "cell_type": "code",
   "execution_count": null,
   "metadata": {},
   "outputs": [],
   "source": [
    "class_sizes_cleaned_df.hist(column='average_class_size_math')"
   ]
  },
  {
   "cell_type": "code",
   "execution_count": null,
   "metadata": {},
   "outputs": [],
   "source": [
    "class_sizes_cleaned_df.hist(column='average_class_size_science')"
   ]
  },
  {
   "cell_type": "code",
   "execution_count": null,
   "metadata": {},
   "outputs": [],
   "source": [
    "class_sizes_cleaned_df.hist(column='average_class_size_english')"
   ]
  },
  {
   "cell_type": "code",
   "execution_count": null,
   "metadata": {},
   "outputs": [],
   "source": [
    "class_sizes_cleaned_df.hist(column='average_class_size_social_studies')"
   ]
  },
  {
   "cell_type": "code",
   "execution_count": null,
   "metadata": {},
   "outputs": [],
   "source": [
    "# check final shape (rows = number of schools)\n",
    "# should be (494, 13)\n",
    "class_sizes_cleaned_df.shape"
   ]
  },
  {
   "cell_type": "code",
   "execution_count": null,
   "metadata": {},
   "outputs": [],
   "source": [
    "# save the cleaned dataset to CSV\n",
    "class_sizes_cleaned_df.to_csv('data_cleaned/cleaned_class_sizes.csv')"
   ]
  },
  {
   "cell_type": "code",
   "execution_count": null,
   "metadata": {},
   "outputs": [],
   "source": []
  }
 ],
 "metadata": {
  "language_info": {
   "name": "python",
   "pygments_lexer": "ipython3"
  }
 },
 "nbformat": 4,
 "nbformat_minor": 2
}
