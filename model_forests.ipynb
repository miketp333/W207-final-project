{
 "cells": [
  {
   "cell_type": "markdown",
   "metadata": {},
   "source": [
    "# Random Forests Notebook\n",
    "[Return to project overview](final_project_overview.ipynb),\n",
    "\n",
    "### Andrew Larimer, Deepak Nagaraj, Daniel Olmstead, Michael Winton (W207-4-Summer 2018 Final Project)"
   ]
  },
  {
   "cell_type": "markdown",
   "metadata": {},
   "source": [
    "### Importing Libraries and setting options\n",
    "\n",
    "First we import necessary libraries, including our util functions, and set Pandas and Matplotlib options."
   ]
  },
  {
   "cell_type": "code",
   "execution_count": null,
   "metadata": {},
   "outputs": [],
   "source": [
    "# import necessary libraries\n",
    "import matplotlib.pyplot as plt\n",
    "import numpy as np\n",
    "import pandas as pd\n",
    "from sklearn.ensemble import RandomForestClassifier\n",
    "from sklearn.metrics import f1_score\n",
    "from sklearn.model_selection import GridSearchCV, cross_validate\n",
    "from sklearn.preprocessing import MinMaxScaler\n",
    "from util import our_train_test_split, read_data, ohe_data, print_cv_results\n",
    "import pickle\n",
    "\n",
    "# set default options\n",
    "pd.set_option('display.max_columns', None)\n",
    "pd.set_option('display.max_rows', 200)\n",
    "%matplotlib inline"
   ]
  },
  {
   "cell_type": "markdown",
   "metadata": {},
   "source": [
    "### Reading our data using util cleanup and imputing\n",
    "\n",
    "Our util module has shared utility functions for cleaning up our data and imputing means."
   ]
  },
  {
   "cell_type": "code",
   "execution_count": null,
   "metadata": {},
   "outputs": [],
   "source": [
    "# Read the cleaned, merged, and mean-imputed data from our utility function\n",
    "train_data, test_data, train_labels, test_labels = read_data(do_imputation=True)"
   ]
  },
  {
   "cell_type": "markdown",
   "metadata": {},
   "source": [
    "We'll drop some columns that were used to calculate our dependendt variable, as well as our index column, school name strings, and `school_income_estimate` which had too many missing values to fill via imputing."
   ]
  },
  {
   "cell_type": "code",
   "execution_count": null,
   "metadata": {},
   "outputs": [],
   "source": [
    "# We drop a few features for the following reasons:\n",
    "#    Used in generating dependent variable: 'num_shsat_test_takers',\n",
    "#        'offers_per_student', 'pct_test_takers'\n",
    "#    Strings or other non-features: 'dbn', 'school_name'\n",
    "#    Too many empty values: 'school_income_estimate'\n",
    "#    Data preserved in other features (namely the 'in_[borough]' derived features): 'zip'\n",
    "\n",
    "FEATURES_TO_DROP = ['dbn', 'school_name', 'zip', 'num_shsat_test_takers',\n",
    "                    'offers_per_student', 'pct_test_takers', 'school_income_estimate',\n",
    "                    'rigorous_instruction_rating','collaborative_teachers_rating',\n",
    "                    'supportive_environment_rating',\n",
    "                    'effective_school_leadership_rating',\n",
    "                    'strong_family_community_ties_rating', 'trust_rating',\n",
    "                    'student_achievement_rating']\n",
    "\n",
    "# We'll go ahead and drop total_columns_to_drop columns.\n",
    "train_dropped = train_data.drop(FEATURES_TO_DROP,axis=1)\n",
    "test_dropped = test_data.drop(FEATURES_TO_DROP,axis=1)"
   ]
  },
  {
   "cell_type": "code",
   "execution_count": null,
   "metadata": {},
   "outputs": [],
   "source": [
    "# We confirm our resulting data has no more NAs\n",
    "print(\"Confirm total of remaining NAs is: \",np.sum(np.sum(train_dropped.isna())))"
   ]
  },
  {
   "cell_type": "markdown",
   "metadata": {},
   "source": [
    "### One-Hot Encoding of Districts\n",
    "\n",
    "We have already binarized our boroughs, but let's do the same to our districts via our \"one hot encoding\" utility function."
   ]
  },
  {
   "cell_type": "code",
   "execution_count": null,
   "metadata": {},
   "outputs": [],
   "source": [
    "train_prepped, test_prepped = ohe_data(train_dropped, test_dropped, ['district'])"
   ]
  },
  {
   "cell_type": "markdown",
   "metadata": {},
   "source": [
    "### Optimizing a Random Forest Model on Cross-Validation\n",
    "\n",
    "We now move into training our random forest model. To optimize our hyperparameter of how many trees to include in our forest, we use GridSearchCV and take advantage of its cross validation capability to use cross validation against our training set instead of further reducing our data into smaller train and dev sets. "
   ]
  },
  {
   "cell_type": "code",
   "execution_count": null,
   "metadata": {},
   "outputs": [],
   "source": [
    "# NOTE: This cell takes a while to run, so if you want to skip it,\n",
    "# simply run the cell below to load the csv report of the most recent run.\n",
    "\n",
    "# First we define our base Random Forest Classifier with fixed parameters we don't\n",
    "# anticipate adjusting. We want to run as many jobs as we have cores at once\n",
    "# (which is what the -1 input to n_jobs does, and we define our random state\n",
    "# for reproducibility.)\n",
    "forest = RandomForestClassifier(n_jobs=-1, class_weight='balanced',random_state=207)\n",
    "\n",
    "# We define a range of paramters we'd like to try for our forest.\n",
    "params_to_try = {'n_estimators':[10,30,100,300], 'max_depth':[None,2,5,7],\n",
    "                 'min_samples_leaf':[1,2,4], 'min_samples_split':[2,3,5],\n",
    "                 'max_features':[.2,.5,.8]}\n",
    "\n",
    "# We define into how many groups we'd like to split our test data\n",
    "# for use in cross-validation to evaluate hyperparameters.\n",
    "KFOLDS = 5\n",
    "\n",
    "# Now we run GridSearchCV on our forest estimator, trying our varying numbers of trees\n",
    "# and utilizing our cross validation to determine the best number of trees across the\n",
    "# best number of train/dev cross validation splits, using a weighted F1 score as our\n",
    "# metric of success.\n",
    "forest_cv = GridSearchCV(forest, params_to_try, scoring=['f1','accuracy'],\n",
    "                         cv=KFOLDS, return_train_score=False, refit='f1')\n",
    "forest_cv.fit(train_prepped, train_labels)\n",
    "\n",
    "with open('cache_forest/pickled_forest','wb') as f:\n",
    "    pickle.dump(forest_cv, f)\n",
    "\n",
    "cv_results = pd.DataFrame(forest_cv.cv_results_)\n",
    "cv_results.to_csv('cache_forest/forest_gridsearch_results.csv')"
   ]
  },
  {
   "cell_type": "code",
   "execution_count": null,
   "metadata": {},
   "outputs": [],
   "source": [
    "# Skip to here to read the results\n",
    "# and reload our serialized GridSearchCV with our\n",
    "# best estimator and parameters.\n",
    "\n",
    "cv_results = pd.read_csv('cache_forest/forest_gridsearch_results.csv')\n",
    "\n",
    "with open('cache_forest/pickled_forest','rb') as f:\n",
    "    forest_cv = pickle.load(f)\n",
    "\n",
    "# And we display the results in a Pandas dataframe.\n",
    "cv_results"
   ]
  },
  {
   "cell_type": "code",
   "execution_count": null,
   "metadata": {},
   "outputs": [],
   "source": [
    "# We extract our best model and best parameters from our GridSearchCV results.\n",
    "best_forest = forest_cv.best_estimator_\n",
    "best_params = forest_cv.best_params_\n",
    "\n",
    "# This will make its way into util, but building here until\n",
    "# this merges and I re-pull to minimize merge conflicts\n",
    "def print_gridsearchcv_bestresults(cv_scores):\n",
    "    k_folds = len(cv_scores['test_accuracy'])\t# any of them will do\n",
    "\n",
    "    # display accuracy with 95% confidence interval\n",
    "    cv_accuracy = cv_scores['test_accuracy']\n",
    "    print('With %d-fold cross-validation, accuracy is: %.3f (95%% CI from %.3f to %.3f).' %\n",
    "          (k_folds, cv_accuracy.mean(), cv_accuracy.mean() - 1.96 * cv_accuracy.std(),\n",
    "           cv_accuracy.mean() + 1.96 * cv_accuracy.std()))\n",
    "\n",
    "    # display F1 score with 95% confidence interval\n",
    "    cv_f1 = cv_scores['test_f1']\n",
    "    print('The F1 score is: %.3f (95%% CI from %.3f to %.3f).' %\n",
    "          (cv_f1.mean(), cv_f1.mean() - 1.96 * cv_f1.std(),\n",
    "           cv_f1.mean() + 1.96 * cv_f1.std()))\n",
    "\n",
    "# As well as the results of the best parameters on the CV\n",
    "winning_cv_results = cv_results[cv_results['rank_test_f1'] == 1]\n",
    "\n",
    "print(\"Best params:\\n\")\n",
    "for param, val in best_params.items():\n",
    "    print(param,':',val)\n",
    "\n",
    "    \n",
    "# The winning results in a Dataframe\n",
    "winning_cv_results\n",
    "\n",
    "# I'll need to adapt or recreate the results of the \n",
    "# util.print_cv_results method\n",
    "print_cv_results(winning_cv_results)"
   ]
  },
  {
   "cell_type": "markdown",
   "metadata": {},
   "source": [
    "### Maximizing our maximum mean score across cross validations\n",
    "\n",
    "Before moving on testing our model against our test data, we have adjusted our features, preprocessing, and hyperparameters to maximize the highest mean test score we receive."
   ]
  },
  {
   "cell_type": "code",
   "execution_count": null,
   "metadata": {},
   "outputs": [],
   "source": [
    "print(\"Maximum mean score across cross validations: {0:.4f}\"\\\n",
    "      .format(np.max(cv_results['mean_test_score'])))"
   ]
  },
  {
   "cell_type": "markdown",
   "metadata": {},
   "source": [
    "### Analyzing our most important features"
   ]
  },
  {
   "cell_type": "code",
   "execution_count": null,
   "metadata": {},
   "outputs": [],
   "source": [
    "# Need column names here after the ohe_data step to analyze the results\n",
    "print(best_forest.feature_importances_)"
   ]
  },
  {
   "cell_type": "markdown",
   "metadata": {},
   "source": [
    "### Measuring results on the test set\n",
    "\n",
    "Now that we have determined our best preprocessing steps and hyperparameters,\n",
    "we evaluate our results on our test set."
   ]
  },
  {
   "cell_type": "code",
   "execution_count": null,
   "metadata": {},
   "outputs": [],
   "source": [
    "# We train on our full training data on a new forest with our best_params\n",
    "# determined by our GridSearchCV\n",
    "# best_forest.fit(train_prepped, train_labels)\n",
    "\n",
    "# And make predictions on our test data\n",
    "# predictions = best_forest.predict(test_prepped)\n",
    "# f1 = f1_score(test_labels, predictions, average='weighted')\n",
    "# f1 = f1_score(test_labels, predictions)\n",
    "# accuracy = np.sum(predictions == test_labels) / len(test_labels)\n",
    "    \n",
    "# print(\"Weighted Average F1 Score: {0:.4f}\".format(f1))\n",
    "# print(\"Accuracy: {0:.4f}\".format(accuracy))"
   ]
  }
 ],
 "metadata": {
  "language_info": {
   "name": "python",
   "pygments_lexer": "ipython3"
  }
 },
 "nbformat": 4,
 "nbformat_minor": 2
}
