{
 "cells": [
  {
   "cell_type": "markdown",
   "metadata": {},
   "source": [
    "# Random Forests Notebook\n",
    "[Return to project overview](final_project_overview.ipynb),\n",
    "\n",
    "### Andrew Larimer, Deepak Nagaraj, Daniel Olmstead, Michael Winton (W207-4-Summer 2018 Final Project)"
   ]
  },
  {
   "cell_type": "code",
   "execution_count": null,
   "metadata": {},
   "outputs": [],
   "source": [
    "# import necessary libraries\n",
    "import matplotlib.pyplot as plt\n",
    "import numpy as np\n",
    "import pandas as pd\n",
    "from sklearn.ensemble import RandomForestClassifier\n",
    "from sklearn.metrics import f1_score\n",
    "from sklearn.preprocessing import Imputer\n",
    "from util import our_train_test_split\n",
    "\n",
    "# set default options\n",
    "pd.set_option('display.max_columns', None)\n",
    "pd.set_option('display.max_rows', 200)\n",
    "%matplotlib inline"
   ]
  },
  {
   "cell_type": "code",
   "execution_count": null,
   "metadata": {},
   "outputs": [],
   "source": [
    "# import our cleaned dataset\n",
    "merged_df = pd.read_csv('data_merged/combined_data_2018-07-18.csv')\n",
    "\n",
    "# We know we need to drop some variables due to them being an irrelevant index ('Unnamed: 0'),\n",
    "# or being a string, or related to calculating our dependent variable.\n",
    "FEATURES_TO_DROP = ['dbn', 'school_name', \\\n",
    "                    'num_shsat_test_takers', 'offers_per_student', 'pct_test_takers']\n",
    "\n",
    "# We also know that we still need to clean up some NA values. First we'll look for\n",
    "# columns with too many NA values, and add those to our list of FEATURES TO DROP.\n",
    "bool_of_too_many_missing_values = merged_df.isna().sum() >= 10\n",
    "more_columns_to_drop = merged_df.columns[bool_of_too_many_missing_values]\n",
    "total_columns_to_drop = FEATURES_TO_DROP #+ list(more_columns_to_drop)\n",
    "\n",
    "# We'll go ahead and drop those columns.\n",
    "intermediate_df = merged_df.loc[:, merged_df.columns.drop(total_columns_to_drop)]\n",
    "\n",
    "imp = Imputer()\n",
    "na_free_df = pd.DataFrame(imp.fit_transform(intermediate_df))\n",
    "na_free_df.columns = intermediate_df.columns\n",
    "# Now we just find the row indices of the remaining few rows for \n",
    "# which we also have missing values.\n",
    "#row_indices_to_drop = intermediate_df.isna().sum(axis=1) >= 1\n",
    "\n",
    "# And drop those to arrive at our DF free of NAs.\n",
    "#na_free_df = intermediate_df.loc[-row_indices_to_drop,:]\n",
    "\n",
    "# We now split our dependent variable from our independent variables\n",
    "X = na_free_df.loc[:, na_free_df.columns.drop('high_registrations')]\n",
    "y = na_free_df.loc[:,'high_registrations']\n",
    "\n",
    "# And use our_train_test_split utility function to generate\n",
    "# test and training data and labels.\n",
    "train_data, test_data, train_labels, test_labels = our_train_test_split(X, y, stratify=y)"
   ]
  },
  {
   "cell_type": "markdown",
   "metadata": {},
   "source": [
    "### Random Forest Model\n",
    "\n",
    "We now move into training our random forest model."
   ]
  },
  {
   "cell_type": "code",
   "execution_count": null,
   "metadata": {},
   "outputs": [],
   "source": [
    "# First we define a range of numbers of trees we'd like to include\n",
    "# in our forests.\n",
    "n_trees_to_try = [1,3,10,30,100,300,1000,3000,10000]\n",
    "\n",
    "# For each number of trees, we'll train a model and report our results\n",
    "for n_trees in n_trees_to_try:\n",
    "    forest = RandomForestClassifier(n_estimators = n_trees, \\\n",
    "            max_features=None, n_jobs=-1, random_state=207)\n",
    "    forest.fit(train_data, train_labels)\n",
    "    \n",
    "    predictions = forest.predict(test_data)\n",
    "    f1 = f1_score(test_labels, predictions,average='weighted')\n",
    "    accuracy = np.sum(predictions == test_labels) / len(test_labels)\n",
    "    \n",
    "    print(\"\\nN_Trees:\",n_trees)\n",
    "    print(\"F1 Score: {0:.4f}\".format(f1))\n",
    "    print(\"Accuracy: {0:.4f}\".format(accuracy))"
   ]
  },
  {
   "cell_type": "markdown",
   "metadata": {},
   "source": [
    "With With a random state of 207, our best results so far are:\n",
    "\n",
    "- F1 of .8815\n",
    "- Accuracy of 88.04%\n",
    "\n",
    "We achieve that at 100 trees and see no improvement over that with 300, 1000, 3000 or 10,000 trees."
   ]
  },
  {
   "cell_type": "code",
   "execution_count": null,
   "metadata": {},
   "outputs": [],
   "source": []
  }
 ],
 "metadata": {
  "language_info": {
   "name": "python",
   "pygments_lexer": "ipython3"
  }
 },
 "nbformat": 4,
 "nbformat_minor": 2
}
