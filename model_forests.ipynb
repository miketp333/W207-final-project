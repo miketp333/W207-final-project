{
 "cells": [
  {
   "cell_type": "markdown",
   "metadata": {},
   "source": [
    "# Random Forests Notebook\n",
    "[Return to project overview](final_project_overview.ipynb),\n",
    "\n",
    "### Andrew Larimer, Deepak Nagaraj, Daniel Olmstead, Michael Winton (W207-4-Summer 2018 Final Project)"
   ]
  },
  {
   "cell_type": "markdown",
   "metadata": {},
   "source": [
    "### Importing Libraries and setting options\n",
    "\n",
    "First we import necessary libraries, including our util functions, and set Pandas and Matplotlib options."
   ]
  },
  {
   "cell_type": "code",
   "execution_count": null,
   "metadata": {},
   "outputs": [],
   "source": [
    "# import necessary libraries\n",
    "import matplotlib.pyplot as plt\n",
    "import numpy as np\n",
    "import pandas as pd\n",
    "from sklearn.ensemble import RandomForestClassifier\n",
    "from sklearn.metrics import f1_score\n",
    "from sklearn.model_selection import GridSearchCV, cross_validate\n",
    "from sklearn.preprocessing import MinMaxScaler\n",
    "from util import our_train_test_split, read_data, ohe_data, print_cv_results\n",
    "\n",
    "# set default options\n",
    "pd.set_option('display.max_columns', None)\n",
    "pd.set_option('display.max_rows', 200)\n",
    "%matplotlib inline"
   ]
  },
  {
   "cell_type": "markdown",
   "metadata": {},
   "source": [
    "### Reading our data using util cleanup and imputing\n",
    "\n",
    "Our util module has shared utility functions for cleaning up our data and imputing means."
   ]
  },
  {
   "cell_type": "code",
   "execution_count": null,
   "metadata": {},
   "outputs": [],
   "source": [
    "# Read the cleaned, merged, and mean-imputed data from our utility function\n",
    "train_data, test_data, train_labels, test_labels = read_data()"
   ]
  },
  {
   "cell_type": "markdown",
   "metadata": {},
   "source": [
    "We'll drop some columns that were used to calculate our dependendt variable, as well as our index column, school name strings, and `school_income_estimate` which had too many missing values to fill via imputing."
   ]
  },
  {
   "cell_type": "code",
   "execution_count": null,
   "metadata": {},
   "outputs": [],
   "source": [
    "# We know we need to drop some variables due to them being an irrelevant index ('Unnamed: 0'),\n",
    "# or being a string, or related to calculating our dependent variable.\n",
    "FEATURES_TO_DROP = ['dbn', 'school_name', \\\n",
    "                    'num_shsat_test_takers', 'offers_per_student', 'pct_test_takers',\n",
    "                   'school_income_estimate']\n",
    "\n",
    "# We also know that we still need to clean up some NA values. First we'll look for\n",
    "# columns with too many NA values, and add those to our list of FEATURES TO DROP.\n",
    "bool_of_too_many_missing_values = train_data.isna().sum() >= 10\n",
    "more_columns_to_drop = train_data.columns[bool_of_too_many_missing_values]\n",
    "total_columns_to_drop = FEATURES_TO_DROP + list(more_columns_to_drop)\n",
    "\n",
    "# It may be that the ability of a school to calculate a school_income_estimate\n",
    "# is related to its test score ability, so while we cannot use the school_income_estimate\n",
    "# values, we can use the presence or absence of those values.\n",
    "train_data['sie_provided'] = -train_data['school_income_estimate'].isna()\n",
    "test_data['sie_provided'] = -test_data['school_income_estimate'].isna()\n",
    "\n",
    "# We'll go ahead and drop total_columns_to_drop columns.\n",
    "train_nona = train_data.drop(total_columns_to_drop,axis=1)\n",
    "test_nona = test_data.drop(total_columns_to_drop,axis=1)"
   ]
  },
  {
   "cell_type": "code",
   "execution_count": null,
   "metadata": {},
   "outputs": [],
   "source": [
    "# We confirm our resulting data has no more NAs\n",
    "print(\"Confirm total of remaining NAs is: \",np.sum(np.sum(train_nona.isna())))"
   ]
  },
  {
   "cell_type": "markdown",
   "metadata": {},
   "source": [
    "### One-Hot Encoding of Categorical Features\n",
    "\n",
    "While zip codes might be too granular on their own to find commonalities between schools, we see if grouping by burough provides more shared information, and allow the district variable to stand in for more detailed locality."
   ]
  },
  {
   "cell_type": "code",
   "execution_count": null,
   "metadata": {},
   "outputs": [],
   "source": [
    "bronx_zips = [10453, 10457, 10460, 10458, 10467, 10468, 10451, 10452, 10456, 10454, 10455, 10459, 10474, 10463, 10471, 10466, 10469, 10470, 10475, 10461, 10462,10464, 10465, 10472, 10473]\n",
    "brooklyn_zips = [11212, 11213, 11216, 11233, 11238, 11209, 11214, 11228, 11204, 11218, 11219, 11230, 11234, 11236, 11239, 11223, 11224, 11229, 11235, 11201, 11205, 11215, 11217, 11231, 11203, 11210, 11225, 11226, 11207, 11208, 11211, 11222, 11220, 11232, 11206, 11221, 11237]\n",
    "manhattan_zips = [10026, 10027, 10030, 10037, 10039, 10001, 10011, 10018, 10019, 10020, 10036, 10029, 10035, 10010, 10016, 10017, 10022, 10012, 10013, 10014, 10004, 10005, 10006, 10007, 10038, 10280, 10002, 10003, 10009, 10021, 10028, 10044, 10065, 10075, 10128, 10023, 10024, 10025, 10031, 10032, 10033, 10034, 10040]\n",
    "queens_zips = [11361, 11362, 11363, 11364, 11354, 11355, 11356, 11357, 11358, 11359, 11360, 11365, 11366, 11367, 11412, 11423, 11432, 11433, 11434, 11435, 11436, 11101, 11102, 11103, 11104, 11105, 11106, 11374, 11375, 11379, 11385, 11691, 11692, 11693, 11694, 11695, 11697, 11004, 11005, 11411, 11413, 11422, 11426, 11427, 11428, 11429, 11414, 11415, 11416, 11417, 11418, 11419, 11420, 11421, 11368, 11369, 11370, 11372, 11373, 11377, 11378]\n",
    "staten_zips = [10302, 10303, 10310, 10306, 10307, 10308, 10309, 10312,10301, 10304, 10305,10314]\n",
    "\n",
    "train_cat_zip = train_nona\n",
    "train_cat_zip['in_bronx'] = train_nona['zip'].apply((lambda zip: zip in bronx_zips))\n",
    "train_cat_zip['in_brooklyn'] = train_nona['zip'].apply((lambda zip: zip in brooklyn_zips))\n",
    "train_cat_zip['in_manhattan'] = train_nona['zip'].apply((lambda zip: zip in manhattan_zips))\n",
    "train_cat_zip['in_queens'] = train_nona['zip'].apply((lambda zip: zip in queens_zips))\n",
    "train_cat_zip['in_staten'] = train_nona['zip'].apply((lambda zip: zip in staten_zips))\n",
    "\n",
    "test_cat_zip = test_nona\n",
    "test_cat_zip['in_bronx'] = test_nona['zip'].apply((lambda zip: zip in bronx_zips))\n",
    "test_cat_zip['in_brooklyn'] = test_nona['zip'].apply((lambda zip: zip in brooklyn_zips))\n",
    "test_cat_zip['in_manhattan'] = test_nona['zip'].apply((lambda zip: zip in manhattan_zips))\n",
    "test_cat_zip['in_queens'] = test_nona['zip'].apply((lambda zip: zip in queens_zips))\n",
    "test_cat_zip['in_staten'] = test_nona['zip'].apply((lambda zip: zip in staten_zips))\n",
    "\n",
    "train_borough_ohe = train_cat_zip.drop(['zip'],axis=1)\n",
    "test_borough_ohe = test_cat_zip.drop(['zip'],axis=1)\n",
    "\n",
    "print(\"Train Borough OHE shape:\", train_borough_ohe.shape)\n",
    "print(\"Test Borough OHE shape:\", test_borough_ohe.shape)"
   ]
  },
  {
   "cell_type": "markdown",
   "metadata": {},
   "source": [
    "To ensure that our district categorical variable is not interpreted as an integer value, we binarize it via our \"one hot encoding\" utility function."
   ]
  },
  {
   "cell_type": "code",
   "execution_count": null,
   "metadata": {},
   "outputs": [],
   "source": [
    "# Here we use our ohe_data util function to create binarized columns of our\n",
    "# categorical district data.\n",
    "\n",
    "OHE_COLS = ['district']\n",
    "train_ohe, test_ohe = ohe_data(train_borough_ohe, test_borough_ohe, OHE_COLS)"
   ]
  },
  {
   "cell_type": "code",
   "execution_count": null,
   "metadata": {},
   "outputs": [],
   "source": [
    "# Because our ohe_data function returns a sparse matrix, we fill NAs with\n",
    "# 0s to return to a dense matrix\n",
    "train_prepped = pd.SparseDataFrame(train_ohe, default_fill_value=0)\n",
    "test_prepped = pd.SparseDataFrame(test_ohe, default_fill_value=0)\n",
    "\n",
    "print(\"Train prepped shape:\", train_prepped.shape)\n",
    "print(\"Test prepped shape:\", test_prepped.shape)"
   ]
  },
  {
   "cell_type": "markdown",
   "metadata": {},
   "source": [
    "### Optimizing a Random Forest Model on Cross-Validation\n",
    "\n",
    "We now move into training our random forest model. To optimize our hyperparameter of how many trees to include in our forest, we use GridSearchCV and take advantage of its cross validation capability to use cross validation against our training set instead of further reducing our data into smaller train and dev sets. "
   ]
  },
  {
   "cell_type": "code",
   "execution_count": null,
   "metadata": {},
   "outputs": [],
   "source": [
    "# First we define our base Random Forest Classifier with fixed parameters we don't\n",
    "# anticipate adjusting. We want no limit to the features used in each tree, we\n",
    "# want to run as many jobs as we have cores at once (which is what the -1 input\n",
    "# to n_jobs does, and we define our random state for reproducibility.)\n",
    "forest = RandomForestClassifier(max_features=None, n_jobs=-1, random_state=207)\n",
    "\n",
    "# We define a range of numbers of trees we'd like to include\n",
    "# in our forests for input into our GridSearch.\n",
    "params_to_try = {'n_estimators':[1,3,10,30,100,300]}\n",
    "\n",
    "# We define into how many groups we'd like to split our test data\n",
    "# for use in cross-validation to evaluate hyperparameters.\n",
    "KFOLDS = 5\n",
    "\n",
    "# Now we run GridSearchCV on our forest estimator, trying our varying numbers of trees\n",
    "# and utilizing our cross validation to determine the best number of trees across the\n",
    "# best number of train/dev cross validation splits, using a weighted F1 score as our\n",
    "# metric of success.\n",
    "forest_cv = GridSearchCV(forest, params_to_try, scoring='f1_weighted', cv=KFOLDS,\n",
    "                        return_train_score=False)\n",
    "forest_cv.fit(train_prepped, train_labels)"
   ]
  },
  {
   "cell_type": "code",
   "execution_count": null,
   "metadata": {},
   "outputs": [],
   "source": [
    "# We extract our best model and best parameters from our GridSearchCV results.\n",
    "best_forest = forest_cv.best_estimator_\n",
    "best_n_estimators = forest_cv.best_params_['n_estimators']\n",
    "print(\"Best no. estimators: \", best_n_estimators)\n",
    "\n",
    "# And we display the results in a Pandas dataframe.\n",
    "cv_results = pd.DataFrame(forest_cv.cv_results_)\n",
    "cv_results"
   ]
  },
  {
   "cell_type": "markdown",
   "metadata": {},
   "source": [
    "### Maximizing our maximum mean test score\n",
    "\n",
    "Before moving on testing our model against our test data, we have adjusted our features, preprocessing, and hyperparameters to maximize the highest mean test score we receive."
   ]
  },
  {
   "cell_type": "code",
   "execution_count": null,
   "metadata": {},
   "outputs": [],
   "source": [
    "print(\"Max mean test score: {0:.4f}\".format(np.max(cv_results['mean_test_score'])))"
   ]
  },
  {
   "cell_type": "markdown",
   "metadata": {},
   "source": [
    "### Measuring results on the test set\n",
    "\n",
    "Now that we have determined our best preprocessing steps and hyperparameters,\n",
    "we evaluate our results on our test set."
   ]
  },
  {
   "cell_type": "code",
   "execution_count": null,
   "metadata": {},
   "outputs": [],
   "source": [
    "# We train on our full training data on our best_forest determined by our GridSearchCV\n",
    "best_forest.fit(train_prepped, train_labels)\n",
    "\n",
    "# And make predictions on our test data\n",
    "predictions = best_forest.predict(test_prepped)\n",
    "f1 = f1_score(test_labels, predictions, average='weighted')\n",
    "accuracy = np.sum(predictions == test_labels) / len(test_labels)\n",
    "    \n",
    "print(\"\\nTrees in our Forest:\",best_n_estimators)\n",
    "print(\"Weighted Average F1 Score: {0:.4f}\".format(f1))\n",
    "print(\"Accuracy: {0:.4f}\".format(accuracy))"
   ]
  },
  {
   "cell_type": "markdown",
   "metadata": {},
   "source": [
    "We see that with 100 trees in our random forest, we achieve a Weighted Average F1 Score of 0.8730, and an accuracy of 87.1%."
   ]
  }
 ],
 "metadata": {
  "language_info": {
   "name": "python",
   "pygments_lexer": "ipython3"
  }
 },
 "nbformat": 4,
 "nbformat_minor": 2
}
