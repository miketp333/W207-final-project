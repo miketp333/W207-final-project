{
 "cells": [
  {
   "cell_type": "markdown",
   "metadata": {},
   "source": [
    "# School Explorer Preliminary EDA / Cleaning Notebook\n",
    "[Return to project overview](final_project_overview.ipynb)\n",
    "\n",
    "### Andrew Larimer, Deepak Nagaraj, Daniel Olmstead, Michael Winton (W207-4-Summer 2018 Final Project)\n",
    "\n",
    "The [2016 School Explorer](https://www.kaggle.com/passnyc/data-science-for-good#2016%20School%20Explorer.csv) dataset includes highly detailed information about all 1200+ schools in the five boroughs of New York.  This information includes:\n",
    "\n",
    "* Physical information like grade, latitude/longitude, district, location and SED codes, etc.\n",
    "* Descriptive information such as Grades, whether it is a community school\n",
    "* Financial information such as Budget, Economic Need Index\n",
    "* Demographic information such as percent Asian, Black, etc., percent ELL\n",
    "* School program information such as Rigorous Instruction, Collaborative Teachers, Supportive Environment, etc.\n",
    "* Academic achievement information in the form of per-grade and per-economic/demographic breakdowns of number of Math/ELA students who receive scores of '4' (highest score)\n"
   ]
  },
  {
   "cell_type": "code",
   "execution_count": null,
   "metadata": {},
   "outputs": [],
   "source": [
    "# import necessary libraries\n",
    "import matplotlib.pyplot as plt\n",
    "import seaborn as sns\n",
    "import numpy as np\n",
    "import pandas as pd\n",
    "\n",
    "# set default options\n",
    "pd.set_option('display.max_columns', None)\n",
    "pd.set_option('display.max_rows', 200)\n",
    "\n",
    "%matplotlib inline"
   ]
  },
  {
   "cell_type": "code",
   "execution_count": null,
   "metadata": {},
   "outputs": [],
   "source": [
    "# load dataset from CSV\n",
    "raw_se_2016 = pd.read_csv('data_raw/2016_school_explorer.csv')\n",
    "raw_se_2016.info()"
   ]
  },
  {
   "cell_type": "code",
   "execution_count": null,
   "metadata": {},
   "outputs": [],
   "source": [
    "raw_se_2016.head()"
   ]
  },
  {
   "cell_type": "markdown",
   "metadata": {},
   "source": [
    "## Trimming\n",
    "There is considerably more here than we need, starting with the fact that the dataset includes primary schools that only go up to 5th grade.  We trim the dataset to only those schools that have a 7th grade."
   ]
  },
  {
   "cell_type": "code",
   "execution_count": null,
   "metadata": {},
   "outputs": [],
   "source": [
    "se_2016_trimmed = raw_se_2016[raw_se_2016['Grades'].str.contains('07')]\n",
    "se_2016_trimmed.info()"
   ]
  },
  {
   "cell_type": "markdown",
   "metadata": {},
   "source": [
    "This cuts the number of entries roughly in half, but there are also many more columns than we need.  We want to keep the information that describes the school's location, practices and demographics, and the academic descriptors of the 7th grade (these students will take the SHSAT exam in the fall of their 8th grade)."
   ]
  },
  {
   "cell_type": "code",
   "execution_count": null,
   "metadata": {},
   "outputs": [],
   "source": [
    "features_to_keep = ['Location Code', 'School Name', 'District','Zip', 'Community School?', 'Economic Need Index', 'School Income Estimate',\n",
    "                    'Percent ELL', 'Percent Asian', 'Percent Black', 'Percent Hispanic',\n",
    "                    'Percent Black / Hispanic', 'Percent White', 'Student Attendance Rate',\n",
    "                    'Percent of Students Chronically Absent', 'Rigorous Instruction %',\n",
    "                    'Collaborative Teachers %',\n",
    "                    'Supportive Environment %',\n",
    "                    'Effective School Leadership %',\n",
    "                    'Strong Family-Community Ties %',\n",
    "                    'Trust %', \n",
    "                    'Student Achievement Rating', 'Average ELA Proficiency',\n",
    "                    'Average Math Proficiency', \n",
    "                    'Grade 7 ELA - All Students Tested',\n",
    "                    'Grade 7 ELA 4s - All Students',\n",
    "                    'Grade 7 ELA 4s - American Indian or Alaska Native',\n",
    "                    'Grade 7 ELA 4s - Black or African American',\n",
    "                    'Grade 7 ELA 4s - Hispanic or Latino',\n",
    "                    'Grade 7 ELA 4s - Asian or Pacific Islander',\n",
    "                    'Grade 7 ELA 4s - White', 'Grade 7 ELA 4s - Multiracial',\n",
    "                    'Grade 7 ELA 4s - Limited English Proficient',\n",
    "                    'Grade 7 ELA 4s - Economically Disadvantaged',\n",
    "                    'Grade 7 Math - All Students Tested', \n",
    "                    'Grade 7 Math 4s - All Students',\n",
    "                    'Grade 7 Math 4s - American Indian or Alaska Native',\n",
    "                    'Grade 7 Math 4s - Black or African American',\n",
    "                    'Grade 7 Math 4s - Hispanic or Latino',\n",
    "                    'Grade 7 Math 4s - Asian or Pacific Islander',\n",
    "                    'Grade 7 Math 4s - White',\n",
    "                    'Grade 7 Math 4s - Multiracial',\n",
    "                    'Grade 7 Math 4s - Limited English Proficient',\n",
    "                    'Grade 7 Math 4s - Economically Disadvantaged'\n",
    "]\n",
    "se_2016_trimmed = se_2016_trimmed[features_to_keep]\n",
    "se_2016_trimmed.info()"
   ]
  },
  {
   "cell_type": "code",
   "execution_count": null,
   "metadata": {},
   "outputs": [],
   "source": [
    "se_2016_trimmed.head()"
   ]
  },
  {
   "cell_type": "markdown",
   "metadata": {},
   "source": [
    "## Cleanup\n",
    "We will now define some utility functions to clean up some columns and column names for easier analysis. These changes include:\n",
    "\n",
    "* Converting column names to lowercase\n",
    "* Stripping '%' and '$' symbols from data and column names\n",
    "* Converting the rating system from 'Approaching Target', 'Meeting Target', and 'Exceeding Target' to 1, 2, or 3\n",
    "* Drop the rating columns for which we have corresponding percent columns (there are more missing values in the rating columns)\n",
    "* Converting the Yes/No community schools string to binary"
   ]
  },
  {
   "cell_type": "code",
   "execution_count": null,
   "metadata": {},
   "outputs": [],
   "source": [
    "# Apply changes to new dataframe\n",
    "se_2016_renamed = se_2016_trimmed.copy()\n",
    "se_2016_renamed.rename(columns={\"Location Code\":\"DBN\"}, inplace=True)"
   ]
  },
  {
   "cell_type": "code",
   "execution_count": null,
   "metadata": {},
   "outputs": [],
   "source": [
    "# Utility functions \n",
    "import util\n",
    "\n",
    "# Remove percent\n",
    "percent_columns = [\n",
    "    'Percent ELL',\n",
    "    'Percent Asian',\n",
    "    'Percent Black',\n",
    "    'Percent Hispanic',\n",
    "    'Percent Black / Hispanic',\n",
    "    'Percent White',\n",
    "    'Student Attendance Rate',\n",
    "    'Percent of Students Chronically Absent',\n",
    "    'Rigorous Instruction %',\n",
    "    'Collaborative Teachers %',\n",
    "    'Supportive Environment %',\n",
    "    'Effective School Leadership %',\n",
    "    'Strong Family-Community Ties %',\n",
    "    'Trust %'\n",
    "]\n",
    "\n",
    "# Remove dollar signs\n",
    "money_columns = [\n",
    "    'School Income Estimate'\n",
    "]\n",
    "\n",
    "# Convert ratings to numeric\n",
    "rating_columns = [\n",
    "#     'Rigorous Instruction Rating',\n",
    "#     'Collaborative Teachers Rating',\n",
    "#     'Supportive Environment Rating',\n",
    "#     'Effective School Leadership Rating',\n",
    "#     'Strong Family-Community Ties Rating',\n",
    "#     'Trust Rating',\n",
    "    'Student Achievement Rating'\n",
    "]\n",
    "\n",
    "# Convert Yes/No to to 1/0\n",
    "binary_columns= [\n",
    "    'Community School?'\n",
    "]\n",
    "\n",
    "for col in percent_columns:\n",
    "    se_2016_renamed[col] = util.pct_to_number(se_2016_renamed, col)\n",
    "for col in money_columns:\n",
    "    se_2016_renamed[col] = util.money_to_number(se_2016_renamed, col)\n",
    "for col in rating_columns:\n",
    "    se_2016_renamed[col] = util.rating_to_number(se_2016_renamed, col)\n",
    "for col in binary_columns:\n",
    "    se_2016_renamed[col] = util.to_binary(se_2016_renamed, col)\n",
    "\n",
    "se_2016_renamed.columns = [util.sanitize_column_names(c) for c in se_2016_renamed.columns]\n",
    "se_2016_renamed.head()"
   ]
  },
  {
   "cell_type": "code",
   "execution_count": null,
   "metadata": {},
   "outputs": [],
   "source": [
    "plt.hist(se_2016_renamed.loc[se_2016_renamed['average_ela_proficiency']\\\n",
    "        .notnull(),'average_ela_proficiency'], bins=20)\n",
    "plt.show()\n",
    "plt.hist(se_2016_renamed.loc[se_2016_renamed['average_math_proficiency']\\\n",
    "        .notnull(),'average_math_proficiency'], bins=20)\n",
    "plt.show()"
   ]
  },
  {
   "cell_type": "code",
   "execution_count": null,
   "metadata": {},
   "outputs": [],
   "source": [
    "# check final shape (rows = number of schools)\n",
    "# should be (596, 50)\n",
    "se_2016_renamed.shape"
   ]
  },
  {
   "cell_type": "code",
   "execution_count": null,
   "metadata": {},
   "outputs": [],
   "source": [
    "# save the cleaned dataset to CSV\n",
    "se_2016_renamed.to_csv('data_cleaned/cleaned_explorer.csv', index=False)"
   ]
  },
  {
   "cell_type": "code",
   "execution_count": null,
   "metadata": {},
   "outputs": [],
   "source": []
  }
 ],
 "metadata": {
  "language_info": {
   "name": "python",
   "pygments_lexer": "ipython3"
  }
 },
 "nbformat": 4,
 "nbformat_minor": 2
}
