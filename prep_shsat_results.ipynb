{
 "cells": [
  {
   "cell_type": "markdown",
   "metadata": {},
   "source": [
    "# SHSAT Test Results Preliminary EDA / Cleaning Notebook\n",
    "[Return to project overview](final_project_overview.ipynb)\n",
    "\n",
    "### Andrew Larimer, Deepak Nagaraj, Daniel Olmstead, Michael Winton (W207-4-Summer 2018 Final Project)\n",
    "\n",
    "In this notebook, we will prepare the \"training data\" needed to run and validate our classifier."
   ]
  },
  {
   "cell_type": "markdown",
   "metadata": {},
   "source": [
    "## About the datasets\n",
    "\n",
    "We use two datasets to create the training labels.\n",
    "\n",
    "* [New York Times dataset](https://www.kaggle.com/willkoehrsen/nyc-shsat-test-results-2017)\n",
    "* [New York Department of Education dataset](https://data.cityofnewyork.us/Education/2013-2018-Demographic-Snapshot-School/s52a-8aq6)\n",
    "\n",
    "The first comes from a NYT article about lack of diversity in students who attend New York's specialized high schools.  For a number of New York schools, it gives us information about how many students took the SHSAT, and what the school's racial composition is.\n",
    "\n",
    "The second dataset gives us information about how many students were enrolled in specific grades."
   ]
  },
  {
   "cell_type": "markdown",
   "metadata": {},
   "source": [
    "## Reading data\n",
    "\n",
    "First, let us read the datasets."
   ]
  },
  {
   "cell_type": "code",
   "execution_count": null,
   "metadata": {},
   "outputs": [],
   "source": [
    "import pandas as pd\n",
    "import numpy as np\n",
    "import re\n",
    "import util\n",
    "\n",
    "school_df = pd.read_csv('data_raw/2016_school_explorer.csv')\n",
    "pd.set_option('display.max_columns', None)\n",
    "pd.set_option('display.max_rows', 5)\n",
    "\n",
    "nyt_df = pd.read_csv('data_raw/nytdf.csv')\n",
    "doe_school_df = pd.read_csv('data_raw/doe_demographic_snapshot_school.csv')"
   ]
  },
  {
   "cell_type": "markdown",
   "metadata": {},
   "source": [
    "## NYTimes School Data"
   ]
  },
  {
   "cell_type": "markdown",
   "metadata": {},
   "source": [
    "Let us have a first look at NYTimes data."
   ]
  },
  {
   "cell_type": "code",
   "execution_count": null,
   "metadata": {},
   "outputs": [],
   "source": [
    "nyt_df.head()"
   ]
  },
  {
   "cell_type": "markdown",
   "metadata": {},
   "source": [
    "### Cleanup\n",
    "\n",
    "We will now use our utility functions to clean up some columns and column names for easier analysis.  After this, we will have another look."
   ]
  },
  {
   "cell_type": "code",
   "execution_count": null,
   "metadata": {},
   "outputs": [],
   "source": [
    "# Remove percent and convert to float\n",
    "percent_columns = [\n",
    "    'OffersPerStudent',\n",
    "    'PctBlackOrHispanic',\n",
    "]\n",
    "for col in percent_columns:\n",
    "    nyt_df[col] = util.pct_to_number(nyt_df, col)\n",
    "nyt_df.columns = [util.sanitize_column_names(c) for c in nyt_df.columns]"
   ]
  },
  {
   "cell_type": "markdown",
   "metadata": {},
   "source": [
    "Let us now get an overview of the NYTimes data."
   ]
  },
  {
   "cell_type": "code",
   "execution_count": null,
   "metadata": {},
   "outputs": [],
   "source": [
    "nyt_df.head()"
   ]
  },
  {
   "cell_type": "markdown",
   "metadata": {},
   "source": [
    "## DoE Demographics Data\n",
    "\n",
    "We notice that the NYTimes dataset does not have school enrollment information.\n",
    "\n",
    "We will look at the DoE data and clean it up as needed."
   ]
  },
  {
   "cell_type": "code",
   "execution_count": null,
   "metadata": {},
   "outputs": [],
   "source": [
    "doe_school_df.head()"
   ]
  },
  {
   "cell_type": "markdown",
   "metadata": {},
   "source": [
    "### Cleanup"
   ]
  },
  {
   "cell_type": "code",
   "execution_count": null,
   "metadata": {},
   "outputs": [],
   "source": [
    "doe_school_df.columns = [util.sanitize_column_names(c) for c in doe_school_df.columns]\n",
    "doe_school_df.head()"
   ]
  },
  {
   "cell_type": "markdown",
   "metadata": {},
   "source": [
    "### Filtering data\n",
    "\n",
    "We will filter it down to the year we are interested in (2017-18) based on the above SHSAT data, and do some cleanup.  We look at 2017-18 because the test is at the very beginning of the year:\n",
    "\n",
    "> Registration is September 7-October 12, 2017... In 2017, tests were given October 21, 22; October 29, and November 4.\n",
    "\n",
    "We can also filter information into Grade 8/9 enrollments:\n",
    "\n",
    "> All students in grades eight and nine who are current New York City residents are eligible. [Source](https://www.schools.nyc.gov/school-life/learning/testing/specialized-high-school-admissions-test)"
   ]
  },
  {
   "cell_type": "code",
   "execution_count": null,
   "metadata": {},
   "outputs": [],
   "source": [
    "shsat_eligible_class_size_df = doe_school_df \\\n",
    "    .query(\"year == '2017-18'\") \\\n",
    "    [['dbn', 'grade_7', 'grade_8', 'grade_9']]\n",
    "shsat_eligible_class_size_df.head()"
   ]
  },
  {
   "cell_type": "markdown",
   "metadata": {},
   "source": [
    "### Combining data\n",
    "We will now combine the enrollment data with the NYTimes data."
   ]
  },
  {
   "cell_type": "code",
   "execution_count": null,
   "metadata": {},
   "outputs": [],
   "source": [
    "combined_df = nyt_df.merge(shsat_eligible_class_size_df, on='dbn', how='left')\n",
    "combined_df.head()"
   ]
  },
  {
   "cell_type": "markdown",
   "metadata": {},
   "source": [
    "Let us run some quick sanity checks."
   ]
  },
  {
   "cell_type": "code",
   "execution_count": null,
   "metadata": {},
   "outputs": [],
   "source": [
    "# using the fact that np.nan != np.nan\n",
    "display(combined_df.query('grade_8 != grade_8 | grade_9 != grade_9'))\n",
    "display(combined_df.query('numshsattesttakers > grade_8 + grade_9'))"
   ]
  },
  {
   "cell_type": "markdown",
   "metadata": {},
   "source": [
    "Looks good.  There are no invalid values or empty values."
   ]
  },
  {
   "cell_type": "markdown",
   "metadata": {},
   "source": [
    "### Percent test takers\n",
    "\n",
    "We will define our outcome variable as the fraction of test takers, for each school.  i.e., PASSNYC would want to design its model so that the fraction of test takers is high for each school.  Similarly, we would want to emulate schools that have a high fraction of test takers.\n",
    "\n",
    "Let us add a column for fraction of test takers and look at its distribution."
   ]
  },
  {
   "cell_type": "code",
   "execution_count": null,
   "metadata": {},
   "outputs": [],
   "source": [
    "combined_df['pct_test_takers'] = (combined_df['numshsattesttakers'] * 100 \\\n",
    "                / (combined_df['grade_8'] + combined_df['grade_9'])).astype('int')\n",
    "combined_df[['dataname', 'pct_test_takers']].head()"
   ]
  },
  {
   "cell_type": "code",
   "execution_count": null,
   "metadata": {},
   "outputs": [],
   "source": [
    "import matplotlib.pyplot as plt\n",
    "import seaborn as sns\n",
    "sns.set()\n",
    "\n",
    "plt.hist(combined_df['pct_test_takers'], bins=20)\n",
    "plt.show()"
   ]
  },
  {
   "cell_type": "code",
   "execution_count": null,
   "metadata": {},
   "outputs": [],
   "source": [
    "plt.boxplot(combined_df['pct_test_takers'])\n",
    "plt.show()"
   ]
  },
  {
   "cell_type": "code",
   "execution_count": null,
   "metadata": {},
   "outputs": [],
   "source": [
    "# calculate 75th percentile (correponding to top of box plot)\n",
    "pct75 = np.percentile(combined_df['pct_test_takers'], q=75)\n",
    "pct75"
   ]
  },
  {
   "cell_type": "markdown",
   "metadata": {},
   "source": [
    "### Defining success label\n",
    "\n",
    "From the plots above, it looks like we have a sharp drop at around 40%.  Calculating the 75th percentile correponding to the top of the box in the blox plot, we see it's actually 38.0.  We will use that as a threshhold, and label any school that has >38.0% registrations (ie. 75th percentile) as \"successful\".\n",
    "\n",
    "Let us also have a look at how the distribution of offers per student is spread out."
   ]
  },
  {
   "cell_type": "code",
   "execution_count": null,
   "metadata": {},
   "outputs": [],
   "source": [
    "plt.hist(combined_df['offersperstudent'], bins=20)\n",
    "plt.show()"
   ]
  },
  {
   "cell_type": "code",
   "execution_count": null,
   "metadata": {},
   "outputs": [],
   "source": [
    "combined_df['high_registrations'] = (combined_df['pct_test_takers'] > pct75).astype('int')\n",
    "combined_df.head()"
   ]
  },
  {
   "cell_type": "code",
   "execution_count": null,
   "metadata": {},
   "outputs": [],
   "source": [
    "out_df = combined_df[['dbn', 'grade_7', 'numshsattesttakers', 'offersperstudent', 'pct_test_takers', 'high_registrations']]\n",
    "# manually add underscores to ccolumn names for consistency\n",
    "out_df.columns = ['dbn', 'grade_7_enrollment', 'num_shsat_test_takers', 'offers_per_student', 'pct_test_takers', 'high_registrations']\n",
    "# check final shape (rows = number of schools)\n",
    "out_df.shape"
   ]
  },
  {
   "cell_type": "markdown",
   "metadata": {},
   "source": [
    "We will save this csv file out."
   ]
  },
  {
   "cell_type": "code",
   "execution_count": null,
   "metadata": {},
   "outputs": [],
   "source": [
    "out_df.to_csv('data_cleaned/cleaned_shsat_outcomes.csv', index=False)"
   ]
  },
  {
   "cell_type": "code",
   "execution_count": null,
   "metadata": {},
   "outputs": [],
   "source": []
  }
 ],
 "metadata": {
  "language_info": {
   "name": "python",
   "pygments_lexer": "ipython3"
  }
 },
 "nbformat": 4,
 "nbformat_minor": 2
}
