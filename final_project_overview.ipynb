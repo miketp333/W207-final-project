{
 "cells": [
  {
   "cell_type": "markdown",
   "metadata": {},
   "source": [
    "# Using machine learning to prioritize NYC middle schools for intervention, with an intent to increase diverse student registrations for the specialized high school admissions test\n",
    "\n",
    "### Andrew Larimer, Deepak Nagaraj, Daniel Olmstead, Michael Winton (W207-4-Summer 2018 Final Project)\n"
   ]
  },
  {
   "cell_type": "markdown",
   "metadata": {},
   "source": [
    "Paraphrased from the Kaggle [PASSNYC: Data Science for Good Challenge](https://www.kaggle.com/passnyc/data-science-for-good) overview (June 2018):\n",
    "\n",
    "## Problem Statement\n",
    "\n",
    "PASSNYC is a not-for-profit organization dedicated to broadening educational opportunities for New York City's talented and underserved students. In recent years, the City’s specialized high schools - institutions with historically transformative impact on student outcomes - have seen a shift toward more homogeneous student body demographics.  PASSNYC aims to increase the diversity of students taking the Specialized High School Admissions Test (SHSAT). By focusing efforts in underperforming areas that are historically underrepresented in SHSAT registration, we will help pave the path to specialized high schools for a more diverse group of students.\n",
    "\n",
    "PASSNYC and its partners provide outreach services that improve the chances of students taking the SHSAT and receiving placements in these specialized high schools. The current process of identifying schools is effective, but PASSNYC could have an even greater impact with a more informed, granular approach to quantifying the potential for outreach at a given school. Proxies that have been good indicators of these types of schools include data on English Language Learners, Students with Disabilities, Students on Free/Reduced Lunch, and Students with Temporary Housing.\n",
    "\n",
    "Part of this challenge is to assess the needs of students by using publicly available data to quantify the challenges they face in taking the SHSAT. The best solutions will enable PASSNYC to identify the schools where minority and underserved students stand to gain the most from services like after school programs, test preparation, mentoring, or resources for parents.\n",
    "\n",
    "More on [PASSNYC](http://www.passnyc.org/opportunity-explorer/).\n"
   ]
  },
  {
   "cell_type": "markdown",
   "metadata": {},
   "source": [
    "## Overview of our approach\n",
    "\n",
    "Write this up in prose (copied from the Google Doc):\n",
    "- Treat as a classification problem\n",
    "- Proposed \"success\" class label: # SHSAT registrants normalized by school size\n",
    "- We'll try multiple algorithms (LogisticRegression, SVM, KNN, Random Forest, etc…)\n",
    "- We may try PCA for dimensionality reduction, as many features are likely correlated.\n",
    "- Using cross-validation to calculate accuracy (and/or F-score, Precision & Recall, etc…)\n",
    "- Once we have a \"best\" model, use it to predict whether the remaining ~700 schools would be expected to have SHSAT registrations.  We would rank by decreasing level of diversity (and possibly decreasing economic need), which is in alignment with PASSNYC mission.  This represents the end report that PASSNYC is asking for.\n"
   ]
  },
  {
   "cell_type": "code",
   "execution_count": 12,
   "metadata": {
    "collapsed": true
   },
   "outputs": [],
   "source": [
    "# import necessary libraries\n",
    "import matplotlib.pyplot as plt\n",
    "import numpy as np\n",
    "import pandas as pd\n",
    "\n",
    "# set default options\n",
    "pd.set_option('display.max_columns', None)\n",
    "pd.set_option('display.max_rows', 200)\n",
    "\n",
    "%matplotlib inline"
   ]
  },
  {
   "cell_type": "markdown",
   "metadata": {},
   "source": [
    "## Datasets\n",
    "\n",
    "We joined several datasets together for this project. We focused mainly on data from the 2016-2017 period as predictors for the 2017 SHSAT test, which is taken in the fall. \n",
    "\n",
    "### 1. School Explorer 2016\n",
    "\n",
    "The [2016 School Explorer](https://www.kaggle.com/passnyc/data-science-for-good#2016%20School%20Explorer.csv) dataset was provided by PASSNYC on Kaggle.  It contains key information about every school in NYC such as Name, location (address and lat/lon), grades, budget, demographics, ratings, and number of students who test at level 4 in Math/English ELA by various demographic and economic levels.  Sample row:"
   ]
  },
  {
   "cell_type": "code",
   "execution_count": 24,
   "metadata": {},
   "outputs": [],
   "source": [
    "# se_2016 = pd.read_csv('2016_school_explorer.csv')\n",
    "# # Filter the schools that have an 8th grade\n",
    "# se_2016_8th = se_2016[se_2016['Grades'].str.contains('08')]\n",
    "# # Show a sample row\n",
    "# se_2016_sample = pd.DataFrame(se_2016_8th.iloc[0,])\n",
    "# sample_idx = se_2016_sample..iloc[0]['Location Code']\n",
    "# se_2016_sample"
   ]
  },
  {
   "cell_type": "code",
   "execution_count": 25,
   "metadata": {},
   "outputs": [],
   "source": [
    "# se_2016.shape"
   ]
  },
  {
   "cell_type": "markdown",
   "metadata": {},
   "source": [
    "### 2. NYC SHSAT Test Results 2017\n",
    "\n",
    "The [NYC SHSAT Test Results 2017](https://www.kaggle.com/willkoehrsen/nyc-shsat-test-results-2017/home) dataset contains data from the New York Times Article: [\"See Where New York City’s Elite High Schools Get Their Students\"](https://www.nytimes.com/interactive/2018/06/29/nyregion/nyc-high-schools-middle-schools-shsat-students.html) by Jasmine Lee published June 29, 2018.  Data was parsed and uploaded to Kaggle by [Richard W DiSalvo](https://www.kaggle.com/rdisalv2).  This dataset contains information on schools with students eligible to take the SHSAT, the number of students who took the test, the number of resulting offers, and a basic demographic percentage of Black/Hispanic students at the school (ie, NOT test-takers)."
   ]
  },
  {
   "cell_type": "code",
   "execution_count": 26,
   "metadata": {},
   "outputs": [],
   "source": [
    "# shsat_2017 = pd.read_csv('nytdf.csv')\n",
    "# # Show a sample row\n",
    "# shsat_2017_sample = pd.DataFrame(shsat_2017.loc[shsat_2017['DBN'] == sample_idx]).T\n",
    "# shsat_2017_sample"
   ]
  },
  {
   "cell_type": "code",
   "execution_count": 27,
   "metadata": {},
   "outputs": [],
   "source": [
    "# shsat_2017.shape"
   ]
  },
  {
   "cell_type": "markdown",
   "metadata": {},
   "source": [
    "### 3. NYC Class Size Report 2016-2017\n",
    "\n",
    "The [2016-2017 NYC Class Size Report](https://www.kaggle.com/marcomarchetti/20162017-nyc-class-size-report) dataset originally came from the [NYC Schools website](http://schools.nyc.gov/AboutUs/schools/data/classsize/classsize_2017_2_15.htm), but is no longer available there.  It was parsed and uploaded to Kaggle by [Marco Marchetti](https://www.kaggle.com/marcomarchetti).  It is a merge of three datasets: \"K-8 Avg, MS HS Avg, PTR\".  The \"MS HS Avg\" subset gives the average class size by program, department, and subject for each school.  The \"PTR\" data gives the pupil-teacher ratio for the school."
   ]
  },
  {
   "cell_type": "code",
   "execution_count": 28,
   "metadata": {},
   "outputs": [],
   "source": [
    "# nyccs_2017 = pd.read_csv('February2017_Avg_ClassSize_School_all.csv')\n",
    "# # Show a sample row\n",
    "# nyccs_2017_sample = pd.DataFrame(nyccs_2017.loc[nyccs_2017['DBN'] == sample_idx].iloc[0,])\n",
    "# nyccs_2017_sample"
   ]
  },
  {
   "cell_type": "code",
   "execution_count": 29,
   "metadata": {},
   "outputs": [],
   "source": [
    "# nyccs_2017.shape"
   ]
  },
  {
   "cell_type": "markdown",
   "metadata": {},
   "source": [
    "### 4. Demographic Snapshot School 2013-2018\n",
    "\n",
    "This [2013-2018 Demographic Snapshot of NYC Schools](https://data.cityofnewyork.us/Education/2013-2018-Demographic-Snapshot-School/s52a-8aq6) was downloaded directly from the NYC Open Data project. It contains grade-level enrollments for each school from the NY Department of Education."
   ]
  },
  {
   "cell_type": "code",
   "execution_count": 30,
   "metadata": {},
   "outputs": [],
   "source": [
    "# dss = pd.read_csv('doe_demographic_snapshot_school.csv')\n",
    "# # Filter to just the 2016-17 school year\n",
    "# dss_2017 = dss[dss['Year']=='2016-17']\n",
    "# # Show a sample row\n",
    "# dss_2017_sample = pd.DataFrame(dss_2017.loc[dss_2017['DBN'] == sample_idx].iloc[0,])\n",
    "# dss_2017_sample"
   ]
  },
  {
   "cell_type": "markdown",
   "metadata": {},
   "source": [
    "## Preliminary EDA and Data Cleaning\n",
    "\n",
    "Each of these datasets required varying degrees of cleaning before they could be joined together.  The EDA and data cleaning was done in separate notebooks, and results saved as CSV files.\n",
    "\n",
    "1. [School Explorer EDA Notebook](prep_explorer.ipynb)\n",
    "2. [SHSAT Results & Demographic Snapshot Notebook](prep_shsat_results.ipynb)\n",
    "3. [Class Size Notebook](prep_class_sizes.ipynb)\n",
    "\n",
    "Next we load the resulting CSV files in a [Merge Notebook](prep_merge.ipynb) to join our cleaned data into one master dataset, and save as [combined_data.csv](data_merged/combined_data.csv)."
   ]
  },
  {
   "cell_type": "markdown",
   "metadata": {},
   "source": [
    "## Impute Missing Values in our Combined Dataset\n",
    "**TODO: complete this section**"
   ]
  },
  {
   "cell_type": "code",
   "execution_count": null,
   "metadata": {
    "collapsed": true
   },
   "outputs": [],
   "source": [
    "# impute missing values"
   ]
  },
  {
   "cell_type": "markdown",
   "metadata": {},
   "source": [
    "## Highlights of Univariate and Bivariate EDA\n",
    "\n",
    "**TODO: complete this section**"
   ]
  },
  {
   "cell_type": "code",
   "execution_count": null,
   "metadata": {
    "collapsed": true
   },
   "outputs": [],
   "source": [
    "# Show interesting EDA plots & stats"
   ]
  },
  {
   "cell_type": "markdown",
   "metadata": {},
   "source": [
    "## Model Building\n",
    "\n",
    "Next, we apply a variety of machine learning techniques to determine which provide the best classification results.  Each technique is performed in a separate notebook.  In each case, we also evaluate the effects of using PCA for dimensionality reduction.\n",
    "\n",
    "1. [Decision Trees](model_trees.ipynb)\n",
    "2. [Random Forests](model_forests.ipynb)\n",
    "3. [Logistic Regression](model_logreg.ipynb)\n",
    "4. [SVMs](model_svm.ipynb)\n",
    "\n",
    "**TODO: add more if needed.  I like the idea of 4 since there are 4 of us, but we don't have to stick with it. **"
   ]
  },
  {
   "cell_type": "markdown",
   "metadata": {},
   "source": [
    "## Conclusion\n",
    "\n",
    "**TODO: describe findings , make a table of results, etc...**"
   ]
  },
  {
   "cell_type": "markdown",
   "metadata": {},
   "source": [
    "## Further Work\n",
    "\n",
    "The original PASSNYC challenge requested a prioritized list of schools that would help meet their objective of increasing the SHSAT registrations by diverse students.  Since the current applicants are predominantly white, we chose to intentionally not train our models on demographic factors such as race in order to avoid reinforcing the current bias (ie. we didn't want a model to suggest that emphasis should be on schools with a high percentage of white students because there's an existing correlation with SHSAT registrations).  Instead, we tried to train a \"race-blind\" classifier.  However, once the full set of NYC schools was run through our model in order to generate predictions, we then ranked the resulting schools by these diversity factors (in descending order).\n",
    "\n",
    "The results show that the top 20 schools that we'd recommend PASSNYC engage with are... **TODO: complete this**"
   ]
  },
  {
   "cell_type": "code",
   "execution_count": null,
   "metadata": {
    "collapsed": true
   },
   "outputs": [],
   "source": []
  }
 ],
 "metadata": {
  "kernelspec": {
   "display_name": "Python [default]",
   "language": "python",
   "name": "python3"
  },
  "language_info": {
   "codemirror_mode": {
    "name": "ipython",
    "version": 3
   },
   "file_extension": ".py",
   "mimetype": "text/x-python",
   "name": "python",
   "nbconvert_exporter": "python",
   "pygments_lexer": "ipython3",
   "version": "3.6.4"
  }
 },
 "nbformat": 4,
 "nbformat_minor": 2
}
