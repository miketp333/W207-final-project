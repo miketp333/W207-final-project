{
 "cells": [
  {
   "cell_type": "markdown",
   "metadata": {},
   "source": [
    "# Neural Network Notebook\n",
    "[Return to project overview](final_project_overview.ipynb)\n",
    "\n",
    "\n",
    "### Andrew Larimer, Deepak Nagaraj, Daniel Olmstead, Michael Winton (W207-4-Summer 2018 Final Project)"
   ]
  },
  {
   "cell_type": "code",
   "execution_count": null,
   "metadata": {},
   "outputs": [],
   "source": [
    "# import necessary libraries\n",
    "import matplotlib.pyplot as plt\n",
    "import numpy as np\n",
    "import pandas as pd\n",
    "import util\n",
    "\n",
    "from sklearn.decomposition import PCA\n",
    "from sklearn.metrics import classification_report, confusion_matrix\n",
    "from sklearn.model_selection import cross_val_score, cross_validate\n",
    "from sklearn.neural_network import MLPClassifier\n",
    "from sklearn.pipeline import make_pipeline\n",
    "from sklearn.preprocessing import StandardScaler\n",
    "\n",
    "# set default options\n",
    "pd.set_option('display.max_columns', None)\n",
    "pd.set_option('display.max_rows', 200)\n",
    "\n",
    "%matplotlib inline"
   ]
  },
  {
   "cell_type": "markdown",
   "metadata": {},
   "source": [
    "## Load data and split class labels into separate array\n",
    "\n",
    "Our utility function reads the merged dataset, imputes the column mean for missing numeric values, and then performs a stratified train-test split."
   ]
  },
  {
   "cell_type": "code",
   "execution_count": null,
   "metadata": {},
   "outputs": [],
   "source": [
    "train_data, test_data, train_labels, test_labels = util.read_data()\n",
    "print(train_data.shape)\n",
    "print(train_labels.shape)"
   ]
  },
  {
   "cell_type": "markdown",
   "metadata": {},
   "source": [
    "> **KEY OBSERVATION**: a hypothetical model that is hard-coded to predict a `negative` result every time would be ~77% accurate.  So, we should not accept any machine-learned model with a lower accuracy than that.  This also suggests that F1 score is a better metric to assess our work since it incorporates both precision and recall."
   ]
  },
  {
   "cell_type": "code",
   "execution_count": null,
   "metadata": {},
   "outputs": [],
   "source": [
    "train_data.info()\n",
    "train_data.head(10)"
   ]
  },
  {
   "cell_type": "markdown",
   "metadata": {},
   "source": [
    "> **KEY OBSERVATION**: the feature `school_income_estimate` only has non-null values for 104 of 371 records in the training data.  We should drop it from further analysis, as imputing its value for the non-null records isn't appropriate."
   ]
  },
  {
   "cell_type": "markdown",
   "metadata": {},
   "source": [
    "## Create a function to estimate MLP models and report results"
   ]
  },
  {
   "cell_type": "code",
   "execution_count": null,
   "metadata": {},
   "outputs": [],
   "source": [
    "def estimate_mlp(train_data, train_labels, n_pca=None,\n",
    "                 hidden_layers=None, k_folds=10, max_iter=1000, print_results=True):\n",
    "\n",
    "    # if tuple describing hidden layer nodes isn't provided, set default\n",
    "    if not hidden_layers:\n",
    "        n_features = train_data.shape[1]\n",
    "        hidden_layers = (n_features,n_features,n_features)\n",
    "        \n",
    "    # build pipelines, with or without PCA as appropriate\n",
    "    if n_pca:\n",
    "        # create a pipeline to run StandardScaler and MLP\n",
    "        print('Estimating pipeline with PCA; hidden layers:',hidden_layers)\n",
    "        pipeline = make_pipeline(StandardScaler(with_mean=False), \n",
    "                                 PCA(n_components=n_pca),\n",
    "                                 MLPClassifier(hidden_layer_sizes=hidden_layers, max_iter=max_iter))\n",
    "    else:\n",
    "        # create a pipeline to run StandardScaler and MLP\n",
    "        print('Estimating pipeline without PCA; hidden layers:',hidden_layers)\n",
    "        pipeline = make_pipeline(StandardScaler(with_mean=False), \n",
    "                                 MLPClassifier(hidden_layer_sizes=hidden_layers, max_iter=max_iter))\n",
    "\n",
    "    # Do k-fold cross-validation, collecting both \"test\" accuracy and F1 \n",
    "    print('Running cross-validation, please be patient...')\n",
    "    cv_scores = cross_validate(pipeline, train_data, train_labels, cv=k_folds, scoring=['accuracy','f1'])\n",
    "    if print_results:\n",
    "        util.print_cv_results(cv_scores)\n",
    "        \n",
    "    # extract and return accuracy, F1\n",
    "    cv_accuracy = cv_scores['test_accuracy']\n",
    "    cv_f1 = cv_scores['test_f1']\n",
    "    return (cv_accuracy.mean(), cv_accuracy.std(), cv_f1.mean(), cv_f1.std())\n"
   ]
  },
  {
   "cell_type": "markdown",
   "metadata": {},
   "source": [
    "## Train and fit a \"naive\" model\n",
    "For the first model, we'll use all features except SHSAT-related features because they are too correlated with the way we calculated the label.  We'll also drop `school_income_estimate` because it's missing for ~2/3 of the schools."
   ]
  },
  {
   "cell_type": "code",
   "execution_count": null,
   "metadata": {},
   "outputs": [],
   "source": [
    "drop_cols = ['dbn',\n",
    "             'num_shsat_test_takers',\n",
    "             'offers_per_student',\n",
    "             'pct_test_takers',\n",
    "             'school_name',\n",
    "             'school_income_estimate',\n",
    "            ]\n",
    "\n",
    "# drop SHSAT-related columns\n",
    "train_data_naive = train_data.drop(drop_cols, axis=1)\n",
    "test_data_naive = test_data.drop(drop_cols, axis=1)\n",
    "\n",
    "print(train_data_naive.shape)\n",
    "train_data_naive.head()"
   ]
  },
  {
   "cell_type": "markdown",
   "metadata": {},
   "source": [
    "## One Hot Encode the categorical explanatory variables\n",
    "Columns such as zip code and school district ID, which are integeres should not be fed into an ML model as integers.  Instead, we would need to treat them as factors and perform one-hot encoding.  "
   ]
  },
  {
   "cell_type": "code",
   "execution_count": null,
   "metadata": {},
   "outputs": [],
   "source": [
    "train_data_naive_ohe, test_data_naive_ohe = util.ohe_data(train_data_naive, test_data_naive)"
   ]
  },
  {
   "cell_type": "markdown",
   "metadata": {},
   "source": [
    "## Estimate the \"naive\" multilayer perceptron model\n",
    "This first \"naive\" model uses all except for the SHSAT-related features, as described above.  We create a pipeline that will be used for k-fold cross-validation.  First, we scale the features, then estimate a multilayer perceptron neural network."
   ]
  },
  {
   "cell_type": "code",
   "execution_count": null,
   "metadata": {},
   "outputs": [],
   "source": [
    "# discard return vals; only print results\n",
    "(_,_,_,_) = estimate_mlp(train_data_naive_ohe, train_labels, k_folds=10, max_iter=1000)"
   ]
  },
  {
   "cell_type": "markdown",
   "metadata": {},
   "source": [
    "## Train a \"naive\" model without zip code or school district\n",
    "Next, we will remove the zip and district features and compare accuracy to the model that included one hot-encoded versions of these factors."
   ]
  },
  {
   "cell_type": "code",
   "execution_count": null,
   "metadata": {},
   "outputs": [],
   "source": [
    "drop_cols = ['dbn',\n",
    "             'num_shsat_test_takers',\n",
    "             'offers_per_student',\n",
    "             'pct_test_takers',\n",
    "             'school_name',\n",
    "             'school_income_estimate',\n",
    "             'district',\n",
    "             'zip',\n",
    "            ]\n",
    "\n",
    "# drop SHSAT-related columns + district, zip\n",
    "train_data_naive_nozip = train_data.drop(drop_cols, axis=1)\n",
    "test_data_naive_nozip = test_data.drop(drop_cols, axis=1)\n",
    "\n",
    "print(train_data_naive_nozip.shape)\n",
    "print(train_labels.shape)\n",
    "train_data_naive_nozip.head()"
   ]
  },
  {
   "cell_type": "markdown",
   "metadata": {},
   "source": [
    "## Estimate the \"naive\" multilayer perceptron model (without zip or district)\n"
   ]
  },
  {
   "cell_type": "code",
   "execution_count": null,
   "metadata": {},
   "outputs": [],
   "source": [
    "# discard return vals; only print results\n",
    "(_,_,_,_) = estimate_mlp(train_data_naive_nozip, train_labels, k_folds=10, max_iter=1000)"
   ]
  },
  {
   "cell_type": "markdown",
   "metadata": {},
   "source": [
    "> **KEY OBSERVATION**: while the accuracy is similar when we exclude zip code and school district, the F1 score is substantially less, with a 95% confidence interval that nearly spans the interval 0-1.  This suggests that it's important to keep these factors in the model. "
   ]
  },
  {
   "cell_type": "markdown",
   "metadata": {},
   "source": [
    "## Train a \"race-blind\" multilayer perceptron model\n",
    "Because we know there's an existing bias problem in the NYC schools, in that the demographics of the test taking population have been getting more homogenous, and the explicit goal of PASSNYC is to make the pool more diverse, we want to train a model that excludes most demographic features.  This would enable us to train a \"race-blind\" model.  \n",
    "\n",
    "### Preprocess new X_train and X_test datasets\n",
    "We will remove all explicitly demographic columns, as well as economic factors and zip code, which are likely highly correlated with demographics."
   ]
  },
  {
   "cell_type": "code",
   "execution_count": null,
   "metadata": {},
   "outputs": [],
   "source": [
    "# drop SHSAT-related columns\n",
    "drop_cols = ['dbn',\n",
    "             'num_shsat_test_takers',\n",
    "             'offers_per_student',\n",
    "             'pct_test_takers',\n",
    "             'school_name',\n",
    "             'school_income_estimate'\n",
    "            ]\n",
    "train_data_race_blind = train_data.drop(drop_cols, axis=1)\n",
    "test_data_race_blind = test_data.drop(drop_cols, axis=1)\n",
    "\n",
    "# drop additional (demographic) columns\n",
    "race_cols = ['percent_ell',\n",
    "             'percent_asian',\n",
    "             'percent_black',\n",
    "             'percent_hispanic',\n",
    "             'percent_black__hispanic',\n",
    "             'percent_white',\n",
    "             'economic_need_index',\n",
    "             'zip'\n",
    "             ]\n",
    "train_data_race_blind = train_data_race_blind.drop(race_cols, axis=1)\n",
    "test_data_race_blind = test_data_race_blind.drop(race_cols, axis=1)\n",
    "\n",
    "# one-hot encode these features as factors\n",
    "factor_cols = ['district']\n",
    "train_data_race_blind_ohe, test_data_race_blind_ohe = util.ohe_data(train_data_naive, test_data_naive, factor_cols)"
   ]
  },
  {
   "cell_type": "markdown",
   "metadata": {},
   "source": [
    "## Estimate the \"race blind\" multilayer perceptron model\n"
   ]
  },
  {
   "cell_type": "code",
   "execution_count": null,
   "metadata": {},
   "outputs": [],
   "source": [
    "# discard return vals; only print results\n",
    "(_,_,_,_) = estimate_mlp(train_data_race_blind_ohe, train_labels, k_folds=10, max_iter=1000)"
   ]
  },
  {
   "cell_type": "markdown",
   "metadata": {},
   "source": [
    "> **KEY OBSERVATION**: the F1 score for the race-blind model also have a 95% confidence interval that nearly spans the whole range from 0-1.  Of the models we have tested, the original \"naive\" model (with the most features) performs better than our race-blind model, or our model that excluded only zip and district."
   ]
  },
  {
   "cell_type": "markdown",
   "metadata": {},
   "source": [
    "## Experiment with dimensionality reduction via PCA\n",
    "Since manual feature selection performed poorly, resulting in a confidence interval of F1 spanning from 0 to 1 in both cases, it doesn't seem to be a promising approach.  Next, we experiment with Principal Component Analysis for dimensionality reduction, starting with the \"naive\" set of columns."
   ]
  },
  {
   "cell_type": "code",
   "execution_count": null,
   "metadata": {},
   "outputs": [],
   "source": [
    "# Determine the number of principal components to achieve 90% explained variance\n",
    "n_pca = util.get_num_pcas(train_data_naive, var_explained=0.9)\n"
   ]
  },
  {
   "cell_type": "code",
   "execution_count": null,
   "metadata": {},
   "outputs": [],
   "source": [
    "print('Using %d principal components' % (n_pca))\n",
    "\n",
    "# discard return vals; only print results\n",
    "(_,_,_,_) = estimate_mlp(train_data_naive_ohe, train_labels, n_pca=n_pca, k_folds=10, max_iter=1000)"
   ]
  },
  {
   "cell_type": "markdown",
   "metadata": {},
   "source": [
    "## Use grid search to identify best set of hidden layer parameters\n",
    "Since the usage of PCA seemed to improve our F1 score (and tighten its confidence interval), we will proceed to try to optimize the hidden layer parameters while using PCA."
   ]
  },
  {
   "cell_type": "code",
   "execution_count": null,
   "metadata": {},
   "outputs": [],
   "source": [
    "# Running grid search for different combinations of neural network parameters is slow.\n",
    "# If results already exist as a file, load them instead of re-running.\n",
    "try:\n",
    "    grid_search_results = pd.read_csv('model_neuralnet_gridsearch_results.csv')\n",
    "    print('Loaded grid search results from file.')\n",
    "except FileNotFoundError:\n",
    "    print('Performing grid search for best hidden layer parameters.')\n",
    "\n",
    "    # numbers of hidden nodes = these multipliers * # features\n",
    "    n_features = train_data_naive_ohe.shape[1]\n",
    "    fraction = [0.25, 0.5]\n",
    "#     fraction = [0.25, 0.5, 1.0, 1.5]\n",
    "    n_layer_features = (int(f * n_features) for f in fraction)\n",
    "    n_nodes = list(n_layer_features)\n",
    "\n",
    "    # create list of tuples of hidden layer param permutations\n",
    "    # only explore up to 4 hidden layers\n",
    "    hl_param_candidates = []\n",
    "    for h1 in n_nodes:\n",
    "        hl_param_candidates.append((h1))\n",
    "        for h2 in n_nodes:\n",
    "            hl_param_candidates.append((h1,h2))\n",
    "            for h3 in n_nodes:\n",
    "                hl_param_candidates.append((h1,h2,h3))\n",
    "                for h4 in n_nodes:\n",
    "                    hl_param_candidates.append((h1,h2,h3,h4))\n",
    "    \n",
    "    # train an MLP model and perform cross-validation for each parameter set\n",
    "    print('Estimating %d MLP models. This will take time!\\n' % (len(hl_param_candidates)))\n",
    "    tmp_results = []        \n",
    "    for hl in hl_param_candidates:\n",
    "        tmp_acc, tmp_acc_std, tmp_f1, tmp_f1_std = estimate_mlp(train_data_naive_ohe, train_labels, \n",
    "                                                                hidden_layers=hl, n_pca=n_pca,\n",
    "                                                                k_folds=5, max_iter=1000, print_results=False)\n",
    "        tmp_results.append((hl, tmp_acc, tmp_acc - 1.96 * tmp_acc_std, tmp_acc + 1.96 * tmp_acc_std,\n",
    "                                    tmp_f1, tmp_f1 - 1.96 * tmp_f1_std, tmp_f1 + 1.96 * tmp_f1_std))\n",
    "\n",
    "    # convert results to a dataframe for easier display\n",
    "    grid_search_results = pd.DataFrame(tmp_results)\n",
    "    grid_search_results.columns=(['Hidden Layers','Accuracy','Acc Lower CI', 'Acc Upper CI','F1','F1 Lower CI','F1 Upper CI'])\n",
    "    grid_search_results.to_csv('model_neuralnet_gridsearch_results.csv', index=False)\n",
    "\n",
    "# Display grid search results\n",
    "grid_search_results.sort_values(by='F1', ascending=False)"
   ]
  },
  {
   "cell_type": "markdown",
   "metadata": {},
   "source": [
    "## Final test set accuracy"
   ]
  },
  {
   "cell_type": "code",
   "execution_count": null,
   "metadata": {},
   "outputs": [],
   "source": [
    "# y_predict = mlp.predict(X_test)\n",
    "\n",
    "# print(confusion_matrix(y_test,y_predict))\n",
    "# print(classification_report(y_test,y_predict))"
   ]
  },
  {
   "cell_type": "code",
   "execution_count": null,
   "metadata": {},
   "outputs": [],
   "source": []
  }
 ],
 "metadata": {
  "language_info": {
   "name": "python",
   "pygments_lexer": "ipython3"
  }
 },
 "nbformat": 4,
 "nbformat_minor": 2
}
