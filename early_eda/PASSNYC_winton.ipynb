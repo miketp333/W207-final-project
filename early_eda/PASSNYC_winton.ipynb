{
 "cells": [
  {
   "cell_type": "markdown",
   "metadata": {},
   "source": [
    "# Class Size Report (2016-2017)\n",
    "\n",
    "We will also use data from the [Kaggle 2016-2017 NYC Class Size Report](https://www.kaggle.com/marcomarchetti/20162017-nyc-class-size-report)\n",
    "\n",
    "This dataset includes the following information:\n",
    "- number of students\n",
    "- number of classes\n",
    "- average class size\n",
    "- minimum class size\n",
    "- maximum class size\n",
    "\n",
    "by School x Program Type x Department x Subject\n",
    "\n",
    "It also contains a school-wide pupil-to-teacher ratio"
   ]
  },
  {
   "cell_type": "code",
   "execution_count": null,
   "metadata": {},
   "outputs": [],
   "source": [
    "# import necessary libraries\n",
    "import matplotlib.pyplot as plt\n",
    "import numpy as np\n",
    "import pandas as pd\n",
    "\n",
    "# set default options\n",
    "pd.set_option('display.max_columns', None)\n",
    "pd.set_option('display.max_rows', 200)\n",
    "\n",
    "%matplotlib inline"
   ]
  },
  {
   "cell_type": "code",
   "execution_count": null,
   "metadata": {},
   "outputs": [],
   "source": [
    "# load data\n",
    "raw_class_size_df = pd.read_csv('February2017_Avg_ClassSize_School_all.csv')"
   ]
  },
  {
   "cell_type": "code",
   "execution_count": null,
   "metadata": {},
   "outputs": [],
   "source": [
    "# look at top-level stats on the dataset\n",
    "raw_class_size_df.info()\n"
   ]
  },
  {
   "cell_type": "markdown",
   "metadata": {},
   "source": [
    "## Observation:\n",
    "\n",
    "Since almost a third of our data is missing Department and Subject-level data, we will aggregate number of students and classes at the school level. We will recalculate average class size from those numbers, rather than averaging the provided averages."
   ]
  },
  {
   "cell_type": "code",
   "execution_count": null,
   "metadata": {},
   "outputs": [],
   "source": [
    "# preview the data\n",
    "raw_class_size_df"
   ]
  },
  {
   "cell_type": "code",
   "execution_count": null,
   "metadata": {},
   "outputs": [],
   "source": [
    "# look at a specific school to get a sense of the data\n",
    "raw_class_size_df[raw_class_size_df.DBN == '01M034']"
   ]
  },
  {
   "cell_type": "markdown",
   "metadata": {},
   "source": [
    "## Observation:\n",
    "\n",
    "Some rows contain data per deparment-subject.  These rows are specified by Grade Level = 'MS Core\".  Other rows for the same school contain data per grade level, but without subject.  These rows are specified by Grade Level in [K...8]"
   ]
  },
  {
   "cell_type": "code",
   "execution_count": null,
   "metadata": {},
   "outputs": [],
   "source": [
    "# count of non-null observations for all columns, by grade level\n",
    "raw_class_size_df.groupby(['Grade Level']).count()"
   ]
  },
  {
   "cell_type": "code",
   "execution_count": null,
   "metadata": {},
   "outputs": [],
   "source": [
    "# mean value for all numeric columns, by grade level\n",
    "raw_class_size_df.groupby(['Grade Level']).mean()"
   ]
  },
  {
   "cell_type": "code",
   "execution_count": null,
   "metadata": {},
   "outputs": [],
   "source": [
    "# DEBUGGING / CROSS-CHECKING LOGIC\n",
    "\n",
    "# Examine data for a few specific schools\n",
    "\n",
    "# this school reported both ways (by class level and separately by grade)\n",
    "# numbers appear pretty consistent between the two reporting approaches\n",
    "# raw_class_size_df[raw_class_size_df.DBN == '01M034']\n",
    "\n",
    "# this school reported both ways, but numbers aren't consistent between them\n",
    "# raw_class_size_df[raw_class_size_df.DBN == '01M539']\n",
    "# raw_class_size_df[raw_class_size_df.DBN == '31R024']\n",
    "\n",
    "# this school reported only by program type\n",
    "# raw_class_size_df[raw_class_size_df.DBN == '31R044']"
   ]
  },
  {
   "cell_type": "markdown",
   "metadata": {},
   "source": [
    "## Observations:\n",
    "\n",
    "Department data is only listed for \"MS Core\" and \"HS Core\" grade levels.  Based on small class sizes, I suspect that \"K-8 SC\" may be special ed classes.\n",
    "\n",
    "The original dataset has minimal documentation, except to say that it's the merger of 3 datasets: \"K-8 Avg, MS HS Avg, PTR\".  PTR must mean pupil-teacher ratio, and appears to have been cleanly joined to all rows, presumably based on DBN.  Based on that description and the above observations re: department/subject columns, I'm going to assume that the \"MS HS Avg\" dataset is represented here are \"MS Core\" and \"HS Core\" grade level.   I'll assume that the individual grade levels [K, 1, ... 8] and \"K-8 SC\" come from the \"K-8 Avg\" dataset.  Spot checking a few middle school DBN's shows that there are records of both types in our dataset, but I'm not able to reconcile the numbers.  \n",
    "\n",
    "**As a result, I will stick with only the \"MS HS Avg\" dataset, with its additional PTR joined column.**  Since we only care about middle school for PASSNYC purposes, we only need to keep Grade Level == 'MS Core' (ie. filter out Grade Level == 'HS Core')."
   ]
  },
  {
   "cell_type": "code",
   "execution_count": null,
   "metadata": {},
   "outputs": [],
   "source": [
    "# remove all except the 'MS Core' data\n",
    "class_size_df = raw_class_size_df[raw_class_size_df['Grade Level'] == 'MS Core']\n",
    "\n",
    "# we expect to still have multiple rows per school (because of program X department X subject variations)\n",
    "class_size_df.info()\n",
    "\n",
    "# we don't need to read too much into these stats, but worth taking a quick look\n",
    "class_size_df.describe()"
   ]
  },
  {
   "cell_type": "code",
   "execution_count": null,
   "metadata": {},
   "outputs": [],
   "source": [
    "# taking another quick look at the dataframe\n",
    "class_size_df"
   ]
  },
  {
   "cell_type": "markdown",
   "metadata": {},
   "source": [
    "Next, we temporarily pull out the pupil-teacher ratios into a separate dataframe.  We do this because we'll need to do a groupby and pivot on the remaining columns in order to flatten the department X subject stats into columns.  Afterwards we will rejoin this info.\n",
    "\n",
    "Note: all pupil-teacher ratio values for each school are identical, so the mean is just a convenient way of grabbing that value.  It's not actually averaging a wider distribution.  For example: `mean(9.0 x n records) = (9.0 x n) / n = 9.0`"
   ]
  },
  {
   "cell_type": "code",
   "execution_count": null,
   "metadata": {},
   "outputs": [],
   "source": [
    "# split out school-level pupil-teacher ratios (one row per school)\n",
    "ratio_df = class_size_df.groupby(['DBN'])['School Pupil-Teacher Ratio'].mean()\n",
    "ratio_df.describe()"
   ]
  },
  {
   "cell_type": "code",
   "execution_count": null,
   "metadata": {},
   "outputs": [],
   "source": [
    "# sum students and num classes by school x department (combining across different program types and subjects)\n",
    "class_stats_df = class_size_df.groupby(['DBN','Department'])['Number of Students','Number of Classes'].sum()\n",
    "class_stats_df"
   ]
  },
  {
   "cell_type": "code",
   "execution_count": null,
   "metadata": {},
   "outputs": [],
   "source": [
    "# derive an average class size column\n",
    "class_stats_df['Average Class Size'] = class_stats_df['Number of Students'] / class_stats_df['Number of Classes']\n",
    "class_stats_df"
   ]
  },
  {
   "cell_type": "code",
   "execution_count": null,
   "metadata": {},
   "outputs": [],
   "source": [
    "# reindex so we can pivot\n",
    "class_stats_df = class_stats_df.reset_index()\n",
    "\n",
    "# pivot to get department x stats into columns, not rows\n",
    "class_stats_w_avg_df = class_stats_df.pivot(index='DBN', columns='Department')"
   ]
  },
  {
   "cell_type": "code",
   "execution_count": null,
   "metadata": {},
   "outputs": [],
   "source": [
    "# after pivot, we have all of our numbers in columns, with one row per school\n",
    "class_stats_w_avg_df"
   ]
  },
  {
   "cell_type": "markdown",
   "metadata": {},
   "source": [
    "## Finally join everything back together in a flattened dataset"
   ]
  },
  {
   "cell_type": "code",
   "execution_count": null,
   "metadata": {},
   "outputs": [],
   "source": [
    "# create column names based on the \"levels\" generated during groupby\n",
    "class_size_out_df = class_stats_w_avg_df.copy(deep=False)\n",
    "class_size_out_df.columns = [' '.join(col).strip() for col in class_size_out_df.columns.values]\n",
    "class_size_out_df.columns"
   ]
  },
  {
   "cell_type": "code",
   "execution_count": null,
   "metadata": {},
   "outputs": [],
   "source": [
    "# join the class size states with student-teacher ratio\n",
    "class_size_out_df = class_size_out_df.join(ratio_df)\n",
    "class_size_out_df"
   ]
  },
  {
   "cell_type": "markdown",
   "metadata": {},
   "source": [
    "## Next we'll plot the key histograms"
   ]
  },
  {
   "cell_type": "code",
   "execution_count": null,
   "metadata": {},
   "outputs": [],
   "source": [
    "class_size_out_df.hist(column='School Pupil-Teacher Ratio')"
   ]
  },
  {
   "cell_type": "code",
   "execution_count": null,
   "metadata": {},
   "outputs": [],
   "source": [
    "class_size_out_df.hist(column='Average Class Size Math')"
   ]
  },
  {
   "cell_type": "code",
   "execution_count": null,
   "metadata": {},
   "outputs": [],
   "source": [
    "class_size_out_df.hist(column='Average Class Size Science')"
   ]
  },
  {
   "cell_type": "code",
   "execution_count": null,
   "metadata": {},
   "outputs": [],
   "source": [
    "class_size_out_df.hist(column='Average Class Size English')"
   ]
  },
  {
   "cell_type": "code",
   "execution_count": null,
   "metadata": {},
   "outputs": [],
   "source": [
    "class_size_out_df.hist(column='Average Class Size Social Studies')"
   ]
  },
  {
   "cell_type": "markdown",
   "metadata": {},
   "source": [
    "## Write the cleaned and flattened dataset to disk as a csv file"
   ]
  },
  {
   "cell_type": "code",
   "execution_count": null,
   "metadata": {},
   "outputs": [],
   "source": [
    "class_size_out_df.to_csv('class_size_cleaned.csv')\n"
   ]
  },
  {
   "cell_type": "code",
   "execution_count": null,
   "metadata": {},
   "outputs": [],
   "source": [
    "class_size_out_df.info()"
   ]
  },
  {
   "cell_type": "markdown",
   "metadata": {},
   "source": [
    "## Final observations about `class_size_cleaned.csv`\n",
    "\n",
    "- we have data for 494 middle schools\n",
    "- there are no duplicate entries (manually confirmed)\n",
    "- we have pupil-teacher ratio for all schools\n",
    "- we have avg science class size for all schools\n",
    "- we are missing avg math class size for only one school\n",
    "- we are missing avg English class size for 10 schools\n",
    "- we are missing avg Social Studies class size for 20 schools\n",
    "- all class size data and pupil-teacher ratio data are approximately normally distributed\n",
    "\n",
    "If we assume schools keep class sizes pretty similar across subjects, then we could treat the avg science class size (100% complete data) as a proxy for the school's class size.  Since most of the specialized schools are STEM-focused, this also seems to be a not inappropriate reduction of dimensionality."
   ]
  },
  {
   "cell_type": "code",
   "execution_count": null,
   "metadata": {},
   "outputs": [],
   "source": []
  }
 ],
 "metadata": {
  "language_info": {
   "name": "python",
   "pygments_lexer": "ipython3"
  }
 },
 "nbformat": 4,
 "nbformat_minor": 2
}
