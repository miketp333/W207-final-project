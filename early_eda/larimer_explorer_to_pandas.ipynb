{
 "cells": [
  {
   "cell_type": "code",
   "execution_count": null,
   "metadata": {},
   "outputs": [],
   "source": [
    "import pandas\n",
    "import datetime\n",
    "\n",
    "# Loading the Explorer dataset and NYT (to filter for those schools)\n",
    "raw_exp_df = pandas.read_csv(\"2016_school_explorer.csv\", index_col=\"Location Code\")\n",
    "raw_nyt_df = pandas.read_csv(\"nytdf.csv\", index_col=\"DBN\")"
   ]
  },
  {
   "cell_type": "code",
   "execution_count": null,
   "metadata": {},
   "outputs": [],
   "source": [
    "# Joining on the Indeces that were set on import\n",
    "joined_df = raw_exp_df.join(raw_nyt_df)\n",
    "\n",
    "# Filtering to drop schools where we don't have NYT data\n",
    "filtered_df = joined_df[joined_df[\"NumSHSATTestTakers\"].notnull()]"
   ]
  },
  {
   "cell_type": "code",
   "execution_count": null,
   "metadata": {},
   "outputs": [],
   "source": [
    "print(list(filtered_df.columns))"
   ]
  },
  {
   "cell_type": "code",
   "execution_count": null,
   "metadata": {},
   "outputs": [],
   "source": [
    "features_to_keep = ['School Name','District','Zip', 'Grade Low', 'Grade High',\n",
    "                    'Community School?', 'Economic Need Index', 'School Income Estimate',\n",
    "                    'Percent ELL', 'Percent Asian', 'Percent Black', 'Percent Hispanic',\n",
    "                    'Percent Black / Hispanic', 'Percent White', 'Student Attendance Rate',\n",
    "                    'Percent of Students Chronically Absent', 'Rigorous Instruction %',\n",
    "                    'Rigorous Instruction Rating', 'Collaborative Teachers %',\n",
    "                    'Collaborative Teachers Rating', 'Supportive Environment %',\n",
    "                    'Supportive Environment Rating', 'Effective School Leadership %',\n",
    "                    'Effective School Leadership Rating', 'Strong Family-Community Ties %',\n",
    "                    'Strong Family-Community Ties Rating', 'Trust %', 'Trust Rating',\n",
    "                    'Student Achievement Rating', 'Average ELA Proficiency',\n",
    "                    'Average Math Proficiency', 'Grade 7 ELA - All Students Tested',\n",
    "                    'Grade 7 ELA 4s - All Students',\n",
    "                    'Grade 7 ELA 4s - American Indian or Alaska Native',\n",
    "                    'Grade 7 ELA 4s - Black or African American',\n",
    "                    'Grade 7 ELA 4s - Hispanic or Latino',\n",
    "                    'Grade 7 ELA 4s - Asian or Pacific Islander',\n",
    "                    'Grade 7 ELA 4s - White', 'Grade 7 ELA 4s - Multiracial',\n",
    "                    'Grade 7 ELA 4s - Limited English Proficient',\n",
    "                    'Grade 7 ELA 4s - Economically Disadvantaged',\n",
    "                    'Grade 7 Math - All Students Tested', 'Grade 7 Math 4s - All Students',\n",
    "                    'Grade 7 Math 4s - American Indian or Alaska Native',\n",
    "                    'Grade 7 Math 4s - Black or African American',\n",
    "                    'Grade 7 Math 4s - Hispanic or Latino',\n",
    "                    'Grade 7 Math 4s - Asian or Pacific Islander',\n",
    "                    'Grade 7 Math 4s - White',\n",
    "                    'Grade 7 Math 4s - Multiracial',\n",
    "                    'Grade 7 Math 4s - Limited English Proficient',\n",
    "                    'Grade 7 Math 4s - Economically Disadvantaged',\n",
    "                    'Grade 8 ELA - All Students Tested',\n",
    "                    'Grade 8 ELA 4s - All Students',\n",
    "                    'Grade 8 ELA 4s - American Indian or Alaska Native',\n",
    "                    'Grade 8 ELA 4s - Black or African American',\n",
    "                    'Grade 8 ELA 4s - Hispanic or Latino',\n",
    "                    'Grade 8 ELA 4s - Asian or Pacific Islander',\n",
    "                    'Grade 8 ELA 4s - White', 'Grade 8 ELA 4s - Multiracial',\n",
    "                    'Grade 8 ELA 4s - Limited English Proficient',\n",
    "                    'Grade 8 ELA 4s - Economically Disadvantaged',\n",
    "                    'Grade 8 Math - All Students Tested',\n",
    "                    'Grade 8 Math 4s - All Students',\n",
    "                    'Grade 8 Math 4s - American Indian or Alaska Native',\n",
    "                    'Grade 8 Math 4s - Black or African American',\n",
    "                    'Grade 8 Math 4s - Hispanic or Latino',\n",
    "                    'Grade 8 Math 4s - Asian or Pacific Islander',\n",
    "                    'Grade 8 Math 4s - White',\n",
    "                    'Grade 8 Math 4s - Multiracial',\n",
    "                    'Grade 8 Math 4s - Limited English Proficient',\n",
    "                    'Grade 8 Math 4s - Economically Disadvantaged',\n",
    "                    'NumSHSATTestTakers', 'NumSpecializedOffers',\n",
    "                    'OffersPerStudent', 'PctBlackOrHispanic'\n",
    "]\n",
    "\n",
    "explorer_df = filtered_df[features_to_keep]"
   ]
  },
  {
   "cell_type": "code",
   "execution_count": null,
   "metadata": {},
   "outputs": [],
   "source": [
    "explorer_df.shape"
   ]
  },
  {
   "cell_type": "code",
   "execution_count": null,
   "metadata": {},
   "outputs": [],
   "source": [
    "explorer_df"
   ]
  },
  {
   "cell_type": "code",
   "execution_count": null,
   "metadata": {},
   "outputs": [],
   "source": []
  },
  {
   "cell_type": "code",
   "execution_count": null,
   "metadata": {},
   "outputs": [],
   "source": []
  }
 ],
 "metadata": {
  "language_info": {
   "name": "python",
   "pygments_lexer": "ipython3"
  }
 },
 "nbformat": 4,
 "nbformat_minor": 2
}
