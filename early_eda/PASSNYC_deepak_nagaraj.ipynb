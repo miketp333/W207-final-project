{
 "cells": [
  {
   "cell_type": "markdown",
   "metadata": {},
   "source": [
    "# SHSAT Test Results Preliminary EDA / Cleaning Notebook\n",
    "[Return to project overview](final_project_overview.ipynb)\n",
    "\n",
    "### Andrew Larimer, Deepak Nagaraj, Daniel Olmstead, Michael Winton (W207-4-Summer 2018 Final Project)\n",
    "\n",
    "The [NYC SHSAT Test Results 2017](https://www.kaggle.com/willkoehrsen/nyc-shsat-test-results-2017/home) dataset includes...\n",
    "\n",
    "[Original Kaggle page](https://www.kaggle.com/passnyc/data-science-for-good/home)\n",
    "\n",
    "### Aim\n",
    "\n",
    "Improve the chances of students taking the SHSAT and receiving placements in specialized high schools.\n",
    "\n",
    "### What is PASSNYC?\n",
    "\n",
    "PASSNYC is a not-for-profit, volunteer organization dedicated to broadening educational opportunities for New York City's talented underserved students.\n",
    "\n",
    "Promoting Access to Specialized Schools in New York City (\"PASSNYC\") will focus our efforts in underperforming areas that are historically underrepresented in SHSAT registration. In so doing, PASSNYC will help pave the path to specialized high schools for a more diverse group of students.\n",
    "\n",
    "PASSNYC aims to identify talented underserved students within New York City’s underperforming school districts in order to increase the diversity of students taking the Specialized High School Admissions Test.\n",
    "\n",
    "Here's what PASSNYC does:\n",
    "\n",
    "* Partner with NYC middle schools and communities in underperforming school districts to increase awareness of SHSAT\n",
    "\n",
    "* Identify high-performing students through a combination of interviews, standardized test performance, grades, and educator testimonials.\n",
    "\n",
    "* Prepare scholars for SHSAT by connecting with select mentoring and test prep programs.\n",
    "\n",
    "* \n",
    "\n",
    "### What is SHSAT?\n",
    "\n",
    "The Specialized High Schools Admissions Test (SHSAT) is an examination administered to eighth and ninth grade students residing in New York City and used to determine admission to all but one of the city's nine Specialized High Schools. In 2008, about 29,000 students took the test, and 6,108 students were offered admission to one of the high schools based on the results.[1] On average, 30,000 students take this exam annually.\n",
    "\n",
    "### What are Specialized High Schools?\n",
    "\n",
    "The specialized high schools of New York City are nine selective public high schools, established and run by the New York City Department of Education to serve the needs of academically and artistically gifted students. The Specialized High Schools Admissions Test (SHSAT) examination is required for admission to all the schools except LaGuardia, which requires an audition or portfolio for admission.\n",
    "\n",
    "### Output\n",
    "\n",
    "We want to put out a \"potential for outreach\" for each school.\n",
    "\n",
    "Past proxies include data on:\n",
    "* English language learners\n",
    "* Students with disabilities\n",
    "* Students on free/reduced lunch\n",
    "* Students with temporary housing\n",
    "\n",
    "### Impact\n",
    "\n",
    "The best solutions will enable PASSNYC to identify the schools where minority and underserved students stand to gain the most from services like after-school programs, test preparation, mentoring, or resources for parents.\n",
    "\n",
    "### Judgement Criteria\n",
    "\n",
    "* Performance: Clearly articulate why your solution is effective at tackling the problem.\n",
    "* Influential: Be easy to understand enable PASSNYC to convince stakeholders where services are needed the most.\n",
    "* Shareable: PASSNYC works with over 60 partner organizations to offer services such as test preparation, tutoring, mentoring, extracurricular programs, educational consultants, community and student groups, trade associations, and more. Winning submissions will be able to provide convincing insights to a wide subset of these organizations. "
   ]
  },
  {
   "cell_type": "code",
   "execution_count": null,
   "metadata": {},
   "outputs": [],
   "source": []
  },
  {
   "cell_type": "code",
   "execution_count": null,
   "metadata": {},
   "outputs": [],
   "source": []
  },
  {
   "cell_type": "markdown",
   "metadata": {},
   "source": [
    "## Reading data\n",
    "\n",
    "First, let us read the dataset and do some initial exploratory analysis."
   ]
  },
  {
   "cell_type": "code",
   "execution_count": null,
   "metadata": {},
   "outputs": [],
   "source": [
    "import pandas as pd\n",
    "import numpy as np\n",
    "\n",
    "school_df = pd.read_csv('2016_school_explorer.csv')\n",
    "shsat_df = pd.read_csv('d5_shsat_registrations_and_testers.csv')\n",
    "pd.set_option('display.max_columns', None)\n",
    "pd.set_option('display.max_rows', 20)"
   ]
  },
  {
   "cell_type": "code",
   "execution_count": null,
   "metadata": {},
   "outputs": [],
   "source": [
    "school_df.head(5)"
   ]
  },
  {
   "cell_type": "markdown",
   "metadata": {},
   "source": [
    "Some of the columns are interesting.\n",
    "\n",
    "* Adjusted grade, \"New?\", \"Other location code\" have NaNs.  Need further exploration.\n",
    "* SED Code is \"State Education Dept Code\"\n",
    "* The following are useful for geographical clustering: Location code, district, latitude, longitude, address, city, zip.\n",
    "* Grades, Grade Low, Grade High gives a sense of the size of school.\n",
    "* \"Community School?\" tells whether the school receives extra support: The program pairs selected schools with community based organizations that focus on social and emotional support and development.\n",
    "* \"Economic Need Index\" reflects the socioeconomics of the school population.  It is calculated using the following formula:\n",
    "$$ENI = TemporaryHousing\\% + \\frac{1}{2} HRAeligible\\% + \\frac{1}{2} FreeLunchEligible\\% $$\n",
    "* XXX: \"School Income Estimate\": Don't know\n",
    "* ELL (English Language Learner) is a proxy for a non-native student, who may benefit: English-language learners, or ELLs, are students who are unable to communicate fluently or learn effectively in English, who often come from non-English-speaking homes and backgrounds, and who typically require specialized or modified instruction in both the English language and in their academic courses.\n",
    "* Asian / Black / Hispanic / White: to identify underrepresented races.\n",
    "* \"Student attendance rate\" and \"Percentage of students chronically absent\" can be a proxy for students who are distracted from learning.\n",
    "* XXX: \"Rigorous instruction %\": Don't know\n",
    "* XXX: \"Collaborative teachers %\": Don't know\n",
    "* XXX: \"Supportive environment\": Don't know\n",
    "* XXX: \"Effective school leadership\": Don't know\n",
    "* XXX: \"Strong family-community ties\": Don't know\n",
    "* XXX: \"Trust\": Don't know\n",
    "* XXX: \"Student achievement rating\": Don't know\n",
    "* ELA proficiency (English Language Arts), Math proficiency: we can use both to gauge student performance\n",
    "* \"4s\" columns: shows highest performing students across grades and races (4s is state standards, 4 is highest performance)\n"
   ]
  },
  {
   "cell_type": "markdown",
   "metadata": {},
   "source": [
    "Let us do some cleanup of the data.  [Source](https://www.kaggle.com/randylaosat/simple-exploratory-data-analysis-passnyc)"
   ]
  },
  {
   "cell_type": "code",
   "execution_count": null,
   "metadata": {},
   "outputs": [],
   "source": [
    "import re\n",
    "\n",
    "# Remove percent and convert to float\n",
    "percent_columns = [\n",
    "    'Percent of Students Chronically Absent',\n",
    "    'Rigorous Instruction %',\n",
    "    'Collaborative Teachers %',\n",
    "    'Supportive Environment %',\n",
    "    'Effective School Leadership %',\n",
    "    'Strong Family-Community Ties %',\n",
    "    'Trust %',\n",
    "    'Student Attendance Rate',\n",
    "    'Percent ELL',\n",
    "    'Percent Asian',\n",
    "    'Percent Black',\n",
    "    'Percent Hispanic',\n",
    "    'Percent Black / Hispanic',\n",
    "    'Percent White',\n",
    "]\n",
    "for col in percent_columns:\n",
    "    school_df[col] = school_df[col].astype(str).apply(lambda s: float(s.strip('%')) / 100)\n",
    "# Remove $ and , for income column\n",
    "school_df['School Income Estimate'] = school_df['School Income Estimate'].astype(str).apply(lambda s: float(re.sub('[$,]', '', s)))\n",
    "\n",
    "# Having spaces etc. can cause annoying problems: replace with underscores\n",
    "def sanitize_columns(c):\n",
    "    c = c.lower()\n",
    "    c = re.sub('[?,()/]', '', c)\n",
    "    c = re.sub('[ -]', '_', c)\n",
    "    c = c.replace('%', 'percent')\n",
    "    return c\n",
    "school_df.columns = [sanitize_columns(c) for c in school_df.columns]"
   ]
  },
  {
   "cell_type": "markdown",
   "metadata": {},
   "source": [
    "Now let us have another look at the data."
   ]
  },
  {
   "cell_type": "code",
   "execution_count": null,
   "metadata": {},
   "outputs": [],
   "source": [
    "display(school_df)"
   ]
  },
  {
   "cell_type": "markdown",
   "metadata": {},
   "source": [
    "Let us look at some individual columns which seem to have a lot of \"NaN\"s."
   ]
  },
  {
   "cell_type": "code",
   "execution_count": null,
   "metadata": {},
   "outputs": [],
   "source": [
    "nulls_df = school_df.isnull()\n",
    "display(nulls_df.query('adjusted_grade == False'))"
   ]
  },
  {
   "cell_type": "code",
   "execution_count": null,
   "metadata": {},
   "outputs": [],
   "source": [
    "import matplotlib.pyplot as plt\n",
    "print(school_df['economic_need_index'].describe())\n",
    "display(school_df['economic_need_index'].hist())"
   ]
  },
  {
   "cell_type": "markdown",
   "metadata": {},
   "source": [
    "## NYTimes School Data"
   ]
  },
  {
   "cell_type": "markdown",
   "metadata": {},
   "source": [
    "We also have [NYTimes data](https://www.kaggle.com/willkoehrsen/nyc-shsat-test-results-2017).  Let us read it and have a first look."
   ]
  },
  {
   "cell_type": "code",
   "execution_count": null,
   "metadata": {},
   "outputs": [],
   "source": [
    "nyt_df = pd.read_csv('nytdf.csv')"
   ]
  },
  {
   "cell_type": "code",
   "execution_count": null,
   "metadata": {},
   "outputs": [],
   "source": [
    "nyt_df.head(5)"
   ]
  },
  {
   "cell_type": "markdown",
   "metadata": {},
   "source": [
    "Let us do some cleanup."
   ]
  },
  {
   "cell_type": "code",
   "execution_count": null,
   "metadata": {},
   "outputs": [],
   "source": [
    "# Remove percent and convert to float\n",
    "percent_columns = [\n",
    "    'OffersPerStudent',\n",
    "    'PctBlackOrHispanic',\n",
    "]\n",
    "for col in percent_columns:\n",
    "    nyt_df[col] = nyt_df[col].astype(str).apply(lambda s: int(s.strip('%')))\n",
    "nyt_df.columns = [sanitize_columns(c) for c in nyt_df.columns]"
   ]
  },
  {
   "cell_type": "code",
   "execution_count": null,
   "metadata": {},
   "outputs": [],
   "source": [
    "nyt_df.head(5)"
   ]
  },
  {
   "cell_type": "code",
   "execution_count": null,
   "metadata": {},
   "outputs": [],
   "source": [
    "# We tried to obtain enrollment information, but this fails when offersperstudent = 0\n",
    "\n",
    "# nyt_df['numstudents'] = np.where(nyt_df['offersperstudent'] > 0, \n",
    "#                                  nyt_df['numspecializedoffers'] * 100.0 / nyt_df['offersperstudent'],\n",
    "#                                  0).astype('int')\n",
    "# display(nyt_df)"
   ]
  },
  {
   "cell_type": "markdown",
   "metadata": {},
   "source": [
    "## DoE Demographics Data\n",
    "\n",
    "We do not have school enrollment information above.  We obtained it from [NYC OpenData website](https://data.cityofnewyork.us/Education/2013-2018-Demographic-Snapshot-School/s52a-8aq6)."
   ]
  },
  {
   "cell_type": "code",
   "execution_count": null,
   "metadata": {},
   "outputs": [],
   "source": [
    "doe_school_df = pd.read_csv('doe_demographic_snapshot_school.csv')\n",
    "doe_school_df.head(5)"
   ]
  },
  {
   "cell_type": "markdown",
   "metadata": {},
   "source": [
    "We will filter it down to the year we are interested in (2017-18) based on the above SHSAT data, and do some cleanup.  We look at 2017-18 because the test is at the very beginning of the year:\n",
    "\n",
    "> Registration is September 7-October 12, 2017... In 2017, tests were given October 21, 22; October 29, and November 4.\n",
    "\n",
    "We can also filter information into Grade 8/9 enrollments:\n",
    "\n",
    "> All students in grades eight and nine who are current New York City residents are eligible. [Source](https://www.schools.nyc.gov/school-life/learning/testing/specialized-high-school-admissions-test)"
   ]
  },
  {
   "cell_type": "code",
   "execution_count": null,
   "metadata": {},
   "outputs": [],
   "source": [
    "doe_school_df.columns = [sanitize_columns(c) for c in doe_school_df.columns]\n",
    "shsat_eligible_class_size_df = doe_school_df \\\n",
    "    .query(\"year == '2017-18'\") \\\n",
    "    [['dbn', 'grade_8', 'grade_9']]\n",
    "shsat_eligible_class_size_df.head(5)"
   ]
  },
  {
   "cell_type": "markdown",
   "metadata": {},
   "source": [
    "We will now combine the enrollment data with the NYTimes data."
   ]
  },
  {
   "cell_type": "code",
   "execution_count": null,
   "metadata": {},
   "outputs": [],
   "source": [
    "combined_df = nyt_df.merge(shsat_eligible_class_size_df, on='dbn', how='left')\n",
    "combined_df.head(5)"
   ]
  },
  {
   "cell_type": "markdown",
   "metadata": {},
   "source": [
    "Let us run some quick sanity checks."
   ]
  },
  {
   "cell_type": "code",
   "execution_count": null,
   "metadata": {},
   "outputs": [],
   "source": [
    "# using the fact that np.nan != np.nan\n",
    "display(combined_df.query('grade_8 != grade_8 | grade_9 != grade_9'))\n",
    "display(combined_df.query('numshsattesttakers > grade_8 + grade_9'))"
   ]
  },
  {
   "cell_type": "markdown",
   "metadata": {},
   "source": [
    "Looks good.  There are no invalid values or empty values."
   ]
  },
  {
   "cell_type": "markdown",
   "metadata": {},
   "source": [
    "Let us add a column for fraction of test takers and look at its distribution."
   ]
  },
  {
   "cell_type": "code",
   "execution_count": null,
   "metadata": {},
   "outputs": [],
   "source": [
    "combined_df['pct_test_takers'] = (combined_df['numshsattesttakers'] * 100 \\\n",
    "                / (combined_df['grade_8'] + combined_df['grade_9'])).astype('int')\n",
    "combined_df.head(5)"
   ]
  },
  {
   "cell_type": "code",
   "execution_count": null,
   "metadata": {},
   "outputs": [],
   "source": [
    "display(combined_df.hist('pct_test_takers', bins=20))"
   ]
  },
  {
   "cell_type": "code",
   "execution_count": null,
   "metadata": {},
   "outputs": [],
   "source": [
    "display(combined_df.boxplot('pct_test_takers'))"
   ]
  },
  {
   "cell_type": "markdown",
   "metadata": {},
   "source": [
    "It looks like we have a sharp drop at around 40%.  We can use that as a cutoff, and label any school that has >40% as \"successful\".\n",
    "\n",
    "Let us also have a look at how offers per student is spread out."
   ]
  },
  {
   "cell_type": "code",
   "execution_count": null,
   "metadata": {},
   "outputs": [],
   "source": [
    "display(combined_df.hist('offersperstudent', bins=20))"
   ]
  },
  {
   "cell_type": "code",
   "execution_count": null,
   "metadata": {},
   "outputs": [],
   "source": [
    "combined_df['success_label'] = (combined_df['pct_test_takers'] > 40).astype('int')"
   ]
  },
  {
   "cell_type": "code",
   "execution_count": null,
   "metadata": {},
   "outputs": [],
   "source": [
    "display(combined_df.head())"
   ]
  },
  {
   "cell_type": "markdown",
   "metadata": {},
   "source": [
    "We will save this csv file out."
   ]
  },
  {
   "cell_type": "code",
   "execution_count": null,
   "metadata": {},
   "outputs": [],
   "source": [
    "out_df = combined_df[['dbn', 'numshsattesttakers', 'offersperstudent', 'pct_test_takers', 'success_label']]\n",
    "out_df.to_csv('shsat_outcome_data.csv', index=False)"
   ]
  },
  {
   "cell_type": "code",
   "execution_count": null,
   "metadata": {},
   "outputs": [],
   "source": []
  }
 ],
 "metadata": {
  "language_info": {
   "name": "python",
   "pygments_lexer": "ipython3"
  }
 },
 "nbformat": 4,
 "nbformat_minor": 2
}
